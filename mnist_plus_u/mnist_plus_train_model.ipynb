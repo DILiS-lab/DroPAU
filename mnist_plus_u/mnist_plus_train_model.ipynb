{
 "cells": [
  {
   "cell_type": "code",
   "execution_count": 1,
   "metadata": {},
   "outputs": [],
   "source": [
    "import time\n",
    "from utils_dataset import  get_loaders\n",
    "from utils_model import SwitchableCNNModule\n",
    "import torch\n",
    "from pytorch_lightning.callbacks import EarlyStopping, ModelCheckpoint\n",
    "import pytorch_lightning as pl"
   ]
  },
  {
   "cell_type": "code",
   "execution_count": 2,
   "metadata": {},
   "outputs": [],
   "source": [
    "output_dir = \"./combined_mnist_dataset\"\n",
    "num_samples = 500000"
   ]
  },
  {
   "cell_type": "code",
   "execution_count": 3,
   "metadata": {},
   "outputs": [],
   "source": [
    "train_dataloader, val_dataloader, test_dataloader = get_loaders(output_dir, num_samples)"
   ]
  },
  {
   "cell_type": "code",
   "execution_count": null,
   "metadata": {},
   "outputs": [],
   "source": [
    "device = \"cuda\" if torch.cuda.is_available() else \"mps\" if torch.backends.mps.is_available() else \"cpu\"\n",
    "torch.set_float32_matmul_precision('medium')\n",
    "\n",
    "# Callbacks\n",
    "filename = f\"best_model_{int(time.time())}\"\n",
    "checkpoint_callback = ModelCheckpoint(\n",
    "    monitor=\"val_gaussian_nll\",\n",
    "    dirpath=\"./checkpoints\",\n",
    "    filename=filename,\n",
    "    save_top_k=1,\n",
    "    mode=\"min\"\n",
    ")\n",
    "\n",
    "early_stopping_callback = EarlyStopping(\n",
    "    monitor=\"val_gaussian_nll\",\n",
    "    patience=10,\n",
    "    mode=\"min\"\n",
    ")\n",
    "\n",
    "\n",
    "switch_epoch = 16\n",
    "\n",
    "# Trainer\n",
    "trainer = pl.Trainer(\n",
    "    min_epochs=switch_epoch+1,\n",
    "    max_epochs=35,\n",
    "    callbacks=[checkpoint_callback, early_stopping_callback],\n",
    "    accelerator=device,\n",
    "    devices=1\n",
    ")\n",
    "\n",
    "\n",
    "# Training\n",
    "l_model = SwitchableCNNModule(switch_epoch=switch_epoch, lr=0.001, weight_decay=1e-3, clip_value=1.0)\n",
    "trainer.fit(l_model, train_dataloader, val_dataloader)\n",
    "\n",
    "print(\"Best Model Path:\", checkpoint_callback.best_model_path)"
   ]
  }
 ],
 "metadata": {
  "kernelspec": {
   "display_name": "uncertainty-drivers",
   "language": "python",
   "name": "python3"
  },
  "language_info": {
   "codemirror_mode": {
    "name": "ipython",
    "version": 3
   },
   "file_extension": ".py",
   "mimetype": "text/x-python",
   "name": "python",
   "nbconvert_exporter": "python",
   "pygments_lexer": "ipython3",
   "version": "3.11.5"
  }
 },
 "nbformat": 4,
 "nbformat_minor": 2
}

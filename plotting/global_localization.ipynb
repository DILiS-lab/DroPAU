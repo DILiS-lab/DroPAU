{
 "cells": [
  {
   "cell_type": "code",
   "execution_count": 16,
   "metadata": {},
   "outputs": [
    {
     "name": "stdout",
     "output_type": "stream",
     "text": [
      "CLUE high mass accuracy: 0.145, precision: 0.800\n",
      "CLUE random mass accuracy: 0.124, precision: 0.000\n",
      "CLUE low mass accuracy: 0.111, precision: 0.000\n",
      "-----------------------------------------------------\n",
      "VarX high mass accuracy: 0.491, precision: 1.000\n",
      "VarX random mass accuracy: 0.473, precision: 1.000\n",
      "VarX low mass accuracy: 0.542, precision: 1.000\n",
      "-----------------------------------------------------\n",
      "VarXIG high mass accuracy: 0.463, precision: 1.000\n",
      "VarXIG random mass accuracy: 0.384, precision: 1.000\n",
      "VarXIG low mass accuracy: 0.213, precision: 0.700\n",
      "-----------------------------------------------------\n",
      "VarXLRP high mass accuracy: 0.422, precision: 1.000\n",
      "VarXLRP random mass accuracy: 0.359, precision: 1.000\n",
      "VarXLRP low mass accuracy: 0.266, precision: 1.000\n",
      "-----------------------------------------------------\n",
      "infoshap high mass accuracy: 0.057, precision: 0.000\n",
      "infoshap random mass accuracy: 0.056, precision: 0.000\n",
      "infoshap low mass accuracy: 0.060, precision: 0.000\n",
      "-----------------------------------------------------\n"
     ]
    }
   ],
   "source": [
    "import pandas as pd\n",
    "import numpy as np\n",
    "uncs = [\"high\", \"random\", \"low\"]\n",
    "models = [\"CLUE\", \"VarX\", \"VarXIG\", \"VarXLRP\", \"infoshap\"]\n",
    "mixed = True\n",
    "n_noise_feature = 5 if not mixed else 10\n",
    "uncs_list = []\n",
    "models_list = []\n",
    "mass_accuracy_list = []\n",
    "precision_list = []\n",
    "\n",
    "\n",
    "for model in models:\n",
    "    for unc in uncs:\n",
    "        df = pd.read_csv(f\"data/importances/{model}_{unc}U_importances_n_40000_s_2.00_n_test_1500_n_exp_200.csv\")\n",
    "        mass_accuracy = df[[((\"noise_feature\" in fn) or (\"mixed_feature\" in fn)) for fn in df[\"feature_name\"]]][\"feature_importance\"].sum()/df[\"feature_importance\"].sum()\n",
    "        precision = np.sum([((\"noise_feature\" in fn) or (\"mixed_feature\" in fn)) for fn in df[\"feature_name\"][:n_noise_feature]])/n_noise_feature\n",
    "        print(f\"{model} {unc} mass accuracy: {mass_accuracy:.3f}, precision: {precision:.3f}\")\n",
    "        uncs_list.append(unc)\n",
    "        models_list.append(model)\n",
    "        mass_accuracy_list.append(mass_accuracy)\n",
    "        precision_list.append(precision)\n",
    "\n",
    "        \n",
    "    print(\"-----------------------------------------------------\")\n",
    "df_res = pd.DataFrame({\"unc\": uncs_list, \"model\": models_list, \"mass_accuracy\": mass_accuracy_list, \"precision\": precision_list})\n"
   ]
  },
  {
   "cell_type": "code",
   "execution_count": 17,
   "metadata": {},
   "outputs": [
    {
     "name": "stdout",
     "output_type": "stream",
     "text": [
      "CLUE high mass accuracy: 0.14518, precision: 0.800\n",
      "CLUE random mass accuracy: 0.12377, precision: 0.000\n",
      "CLUE low mass accuracy: 0.11089, precision: 0.000\n",
      "-----------------------------------------------------\n",
      "VarX high mass accuracy: 0.49065, precision: 1.000\n",
      "VarX random mass accuracy: 0.47275, precision: 1.000\n",
      "VarX low mass accuracy: 0.54185, precision: 1.000\n",
      "-----------------------------------------------------\n",
      "VarXIG high mass accuracy: 0.46280, precision: 1.000\n",
      "VarXIG random mass accuracy: 0.38394, precision: 1.000\n",
      "VarXIG low mass accuracy: 0.21302, precision: 0.700\n",
      "-----------------------------------------------------\n",
      "VarXLRP high mass accuracy: 0.42211, precision: 1.000\n",
      "VarXLRP random mass accuracy: 0.35852, precision: 1.000\n",
      "VarXLRP low mass accuracy: 0.26648, precision: 1.000\n",
      "-----------------------------------------------------\n",
      "infoshap high mass accuracy: 0.05682, precision: 0.000\n",
      "infoshap random mass accuracy: 0.05573, precision: 0.000\n",
      "infoshap low mass accuracy: 0.05996, precision: 0.000\n",
      "-----------------------------------------------------\n"
     ]
    }
   ],
   "source": [
    "import pandas as pd\n",
    "import numpy as np\n",
    "uncs = [\"high\", \"random\", \"low\"]\n",
    "models = [\"CLUE\", \"VarX\", \"VarXIG\", \"VarXLRP\", \"infoshap\"]\n",
    "uncs_list = []\n",
    "models_list = []\n",
    "mass_accuracy_list = []\n",
    "precision_list = []\n",
    "\n",
    "\n",
    "for model in models:\n",
    "    for unc in uncs:\n",
    "        df = pd.read_csv(f\"data/importances/{model}_{unc}U_importances_n_40000_s_2.00_n_test_1500_n_exp_200.csv\")\n",
    "        mass_accuracy = df[[((\"noise_feature\" in fn) or (\"mixed_feature\" in fn)) for fn in df[\"feature_name\"]]][\"feature_importance\"].sum()/df[\"feature_importance\"].sum()\n",
    "        precision = np.sum([(\"noise_feature\" in fn) or (\"mixed_feature\" in fn) for fn in df[\"feature_name\"][:n_noise_feature]])/n_noise_feature\n",
    "        print(f\"{model} {unc} mass accuracy: {mass_accuracy:.5f}, precision: {precision:.3f}\")\n",
    "        uncs_list.append(unc)\n",
    "        models_list.append(model)\n",
    "        mass_accuracy_list.append(mass_accuracy)\n",
    "        precision_list.append(precision)\n",
    "\n",
    "        \n",
    "    print(\"-----------------------------------------------------\")\n",
    "df_res = pd.DataFrame({\"unc\": uncs_list, \"model\": models_list, \"mass_accuracy\": mass_accuracy_list, \"precision\": precision_list})\n"
   ]
  },
  {
   "cell_type": "code",
   "execution_count": 18,
   "metadata": {},
   "outputs": [],
   "source": [
    "df_res.to_csv(\"data/importances/noise_feature_global_loc_metrics.csv\", index=False)"
   ]
  }
 ],
 "metadata": {
  "kernelspec": {
   "display_name": "clue",
   "language": "python",
   "name": "python3"
  },
  "language_info": {
   "codemirror_mode": {
    "name": "ipython",
    "version": 3
   },
   "file_extension": ".py",
   "mimetype": "text/x-python",
   "name": "python",
   "nbconvert_exporter": "python",
   "pygments_lexer": "ipython3",
   "version": "3.11.5"
  }
 },
 "nbformat": 4,
 "nbformat_minor": 2
}

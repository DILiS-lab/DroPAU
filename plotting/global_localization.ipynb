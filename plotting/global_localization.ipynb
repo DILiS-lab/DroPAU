{
   "cells": [
      {
         "cell_type": "code",
         "execution_count": null,
         "metadata": {},
         "outputs": [],
         "source": [
            "directories = [\"importances_syn_base\", \"importances_syn_mixed\"]"
         ]
      },
      {
         "cell_type": "code",
         "execution_count": null,
         "metadata": {},
         "outputs": [],
         "source": [
            "np.load(f\"data/importances_syn_mixed/CLUE_highU_importances_n_40000_s_2.00_n_test_1500_n_exp_200.npy\", pickle=True)"
         ]
      },
      {
         "cell_type": "code",
         "execution_count": null,
         "metadata": {},
         "outputs": [],
         "source": [
            "import pandas as pd\n",
            "import numpy as np\n",
            "uncs = [\"high\", \"random\", \"low\"]\n",
            "models = [\"CLUE\", \"VarX\", \"VarXIG\", \"VarXLRP\", \"infoshap\"]\n",
            "mixed = True\n",
            "n_noise_feature = 5 if not mixed else 10\n",
            "uncs_list = []\n",
            "models_list = []\n",
            "mass_accuracy_list = []\n",
            "precision_list = []\n",
            "\n",
            "for directory in directories:\n",
            "    for model in models:\n",
            "        for unc in uncs:\n",
            "            df = pd.read_csv(f\"data/{directory}/{model}_{unc}U_importances_n_40000_s_2.00_n_test_1500_n_exp_200.csv\")\n",
            "            mass_accuracy = df[[(\"noise_feature\" in fn) for fn in df[\"feature_name\"]]][\"feature_importance\"].sum()/df[\"feature_importance\"].sum()\n",
            "            precision = np.sum([(\"noise_feature\" in fn) for fn in df[\"feature_name\"][:n_noise_feature]])/n_noise_feature\n",
            "            print(f\"{model} {unc} mass accuracy: {mass_accuracy:.5f}, precision: {precision:.5f}\")\n",
            "            uncs_list.append(unc)\n",
            "            models_list.append(model)\n",
            "            mass_accuracy_list.append(mass_accuracy)\n",
            "            precision_list.append(precision)\n",
            "\n",
            "for model in models:\n",
            "    for unc in uncs:\n",
            "        df = pd.read_csv(f\"data/importances/{model}_{unc}U_importances_n_40000_s_2.00_n_test_1500_n_exp_200.csv\")\n",
            "        mass_accuracy = df[[((\"noise_feature\" in fn) or (\"mixed_feature\" in fn)) for fn in df[\"feature_name\"]]][\"feature_importance\"].sum()/df[\"feature_importance\"].sum()\n",
            "        precision = np.sum([((\"noise_feature\" in fn) or (\"mixed_feature\" in fn)) for fn in df[\"feature_name\"][:n_noise_feature]])/n_noise_feature\n",
            "        print(f\"{model} {unc} mass accuracy: {mass_accuracy:.3f}, precision: {precision:.3f}\")\n",
            "        uncs_list.append(unc)\n",
            "        models_list.append(model)\n",
            "        mass_accuracy_list.append(mass_accuracy)\n",
            "        precision_list.append(precision)\n",
            "\n",
            "        \n",
            "    print(\"-----------------------------------------------------\")\n",
            "df_res = pd.DataFrame({\"unc\": uncs_list, \"model\": models_list, \"mass_accuracy\": mass_accuracy_list, \"precision\": precision_list})\n"
         ]
      },
      {
         "cell_type": "code",
         "execution_count": null,
         "metadata": {},
         "outputs": [],
         "source": [
            "import pandas as pd\n",
            "import numpy as np\n",
            "uncs = [\"high\", \"random\", \"low\"]\n",
            "models = [\"CLUE\", \"VarX\", \"VarXIG\", \"VarXLRP\", \"infoshap\"]\n",
            "uncs_list = []\n",
            "models_list = []\n",
            "mass_accuracy_list = []\n",
            "precision_list = []\n",
            "\n",
            "\n",
            "for model in models:\n",
            "    for unc in uncs:\n",
            "        df = pd.read_csv(f\"data/importances/{model}_{unc}U_importances_n_40000_s_2.00_n_test_1500_n_exp_200.csv\")\n",
            "        mass_accuracy = df[[((\"noise_feature\" in fn) or (\"mixed_feature\" in fn)) for fn in df[\"feature_name\"]]][\"feature_importance\"].sum()/df[\"feature_importance\"].sum()\n",
            "        precision = np.sum([(\"noise_feature\" in fn) or (\"mixed_feature\" in fn) for fn in df[\"feature_name\"][:n_noise_feature]])/n_noise_feature\n",
            "        print(f\"{model} {unc} mass accuracy: {mass_accuracy:.5f}, precision: {precision:.3f}\")\n",
            "        uncs_list.append(unc)\n",
            "        models_list.append(model)\n",
            "        mass_accuracy_list.append(mass_accuracy)\n",
            "        precision_list.append(precision)\n",
            "\n",
            "        \n",
            "    print(\"-----------------------------------------------------\")\n",
            "df_res = pd.DataFrame({\"unc\": uncs_list, \"model\": models_list, \"mass_accuracy\": mass_accuracy_list, \"precision\": precision_list})\n"
         ]
      },
      {
         "cell_type": "code",
         "execution_count": 18,
         "metadata": {},
         "outputs": [],
         "source": [
            "df_res.to_csv(\"data/importances/noise_feature_global_loc_metrics.csv\", index=False)"
         ]
      }
   ],
   "metadata": {
      "kernelspec": {
         "display_name": "clue",
         "language": "python",
         "name": "python3"
      },
      "language_info": {
         "codemirror_mode": {
            "name": "ipython",
            "version": 3
         },
         "file_extension": ".py",
         "mimetype": "text/x-python",
         "name": "python",
         "nbconvert_exporter": "python",
         "pygments_lexer": "ipython3",
         "version": "3.11.5"
      }
   },
   "nbformat": 4,
   "nbformat_minor": 2
}

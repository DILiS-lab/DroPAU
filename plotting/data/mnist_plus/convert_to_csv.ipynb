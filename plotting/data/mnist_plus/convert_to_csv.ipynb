{
 "cells": [
  {
   "cell_type": "code",
   "execution_count": 4,
   "metadata": {},
   "outputs": [],
   "source": [
    "import pandas as pd\n",
    "import json\n",
    "from pathlib import Path\n",
    "import shap\n",
    "import numpy as np\n",
    "from shap.plots import colors\n",
    "import torch\n",
    "import matplotlib.pyplot as plt"
   ]
  },
  {
   "cell_type": "code",
   "execution_count": 33,
   "metadata": {},
   "outputs": [
    {
     "name": "stdout",
     "output_type": "stream",
     "text": [
      "double_path/mnist_plus_infoshap_500_double_path_extended2.json\n",
      "double_path/mnist_plus_shap_500_double_path_extended2.json\n",
      "double_path/mnist_plus_lrp_zennit_double_path_a1_b0_extended2_zero_bias.json\n",
      "double_path/mnist_plus_lrp_zennit_double_path_a1_b0_extended2.json\n",
      "double_path/mnist_plus_ig_double_path_extended2.json\n",
      "double_path/localization_results_combined_mnist_clue.json\n",
      "double_path/mnist_plus_gradcam_double_path_extended2.json\n"
     ]
    }
   ],
   "source": [
    "for path in Path(\"double_path\").glob(\"*.json\"):\n",
    "    print(path)\n",
    "    with open(path, \"r\") as f:\n",
    "        data = json.load(f)\n",
    "        df = pd.json_normalize(data)\n",
    "        df  = df.explode(df.columns.to_list()).melt(id_vars=\"gt_uncertainty\")\n",
    "        df[['metric', 'targets']] = df['variable'].str.split('.', n=1, expand=True)\n",
    "        df[['heatmap', 'mask']] = df['targets'].str.extract(r'^(.*?_[^_]*?)_(.*)$')\n",
    "        df.drop(columns=[\"variable\", \"targets\"]).to_csv(path.with_suffix(\".csv\"), index=False)"
   ]
  },
  {
   "cell_type": "code",
   "execution_count": 77,
   "metadata": {},
   "outputs": [],
   "source": [
    "img1 = torch.load(\"lrp/attribution_mean_1520_a1_b0_extended2_input.pt\").unsqueeze(-1).numpy()\n",
    "img2 = torch.load(\"lrp/attribution_variance_1520_a1_b0_extended2_input.pt\").squeeze().numpy()\n",
    "\n",
    "\n",
    "plt.imsave(\"lrp/attribution_mean_1520_a1_b0_extended2_input.png\", img1, cmap=\"gray\")\n",
    "plt.imsave(\"lrp/attribution_variance_1520_a1_b0_extended2_input.png\", img2, cmap=\"gray\")"
   ]
  },
  {
   "cell_type": "code",
   "execution_count": null,
   "metadata": {},
   "outputs": [],
   "source": [
    "img = torch.load(\"lrp/attribution_mean_587_a1_b0_extended2_input.pt\").squeeze().numpy()\n",
    "\n",
    "\n",
    "plt.imsave(\"lrp/attribution_mean_587_a1_b0_extended2_input.png\", img, cmap=\"gray\")"
   ]
  },
  {
   "cell_type": "code",
   "execution_count": 51,
   "metadata": {},
   "outputs": [
    {
     "name": "stdout",
     "output_type": "stream",
     "text": [
      "lrp/attribution_mean_1520_a1_b0_extended2.png\n",
      "lrp/attribution_variance_1520_a1_b0_extended2_input.png\n",
      "lrp/attribution_mean_1520_a1_b0_extended2_input.png\n",
      "lrp/attribution_variance_1520_a1_b0_extended2.png\n"
     ]
    }
   ],
   "source": [
    "from PIL import Image\n",
    "for path in Path(\"lrp\").glob(\"*.png\"):\n",
    "    print(path)\n",
    "    image = Image.open(path)\n",
    "    new_image = image.resize((250, 250))\n",
    "    new_image.save(path.with_name(path.stem + \"_250.png\"))\n"
   ]
  },
  {
   "cell_type": "code",
   "execution_count": 31,
   "metadata": {},
   "outputs": [],
   "source": [
    "i = 85922"
   ]
  },
  {
   "cell_type": "code",
   "execution_count": 263,
   "metadata": {},
   "outputs": [],
   "source": [
    "lrp_mean = torch.load(f\"lrp/mnist_plus_lrp_zennit_double_path_a1_b0_extended2_mean_{i}.pt\", map_location=torch.device('cpu')).numpy() #.unsqueeze(0).unsqueeze(-1).numpy()\n",
    "lrp_var = torch.load(f\"lrp/mnist_plus_lrp_zennit_double_path_a1_b0_extended2_variance_{i}.pt\", map_location=torch.device('cpu')).numpy()\n",
    "img1 = torch.load(f\"lrp/mnist_plus_lrp_zennit_double_path_a1_b0_extended2_input_{i}.pt\", map_location=torch.device('cpu')).squeeze().numpy()"
   ]
  },
  {
   "cell_type": "code",
   "execution_count": 264,
   "metadata": {},
   "outputs": [],
   "source": [
    "max_val_var = np.nanpercentile(np.abs(lrp_var), 99.9)\n",
    "max_val_mean = np.nanpercentile(np.abs(lrp_mean), 99.9)\n",
    "\n",
    "fig = plt.figure(figsize=(1, 1))\n",
    "ax = plt.Axes(fig, [0., 0., 1., 1.])\n",
    "ax.set_axis_off()\n",
    "fig.add_axes(ax)\n",
    "ax.imshow(img1, cmap=\"gray\", alpha=0.8)\n",
    "ax.imshow(lrp_var, cmap=colors.red_transparent_blue, vmin=-max_val_var, vmax=max_val_var, alpha=0.6)\n",
    "fig.savefig(f\"lrp_var_{i}.png\", dpi=600) \n",
    "plt.close(fig)\n",
    "\n",
    "fig = plt.figure(figsize=(1, 1))\n",
    "ax = plt.Axes(fig, [0., 0., 1., 1.])\n",
    "ax.set_axis_off()\n",
    "fig.add_axes(ax)\n",
    "ax.imshow(img1, cmap=\"gray\", alpha=0.8)\n",
    "ax.imshow(lrp_mean, cmap=colors.red_transparent_blue, vmin=-max_val_mean, vmax=max_val_mean, alpha=0.6)\n",
    "fig.savefig(f\"lrp_mean_{i}.png\", dpi=600) \n",
    "plt.close(fig)"
   ]
  },
  {
   "cell_type": "code",
   "execution_count": 265,
   "metadata": {},
   "outputs": [],
   "source": [
    "shap_mean = torch.load(f\"shap/mnist_plus_shap_500_double_path_extended2_mean_{i}.pt\").numpy() #.unsqueeze(0).unsqueeze(-1).numpy()\n",
    "shap_var = torch.load(f\"shap/mnist_plus_shap_500_double_path_extended2_variance_{i}.pt\").numpy()\n",
    "img1 = torch.load(f\"shap/mnist_plus_shap_500_double_path_extended2_input_{i}.pt\", map_location=torch.device('cpu')).squeeze().numpy()"
   ]
  },
  {
   "cell_type": "code",
   "execution_count": 266,
   "metadata": {},
   "outputs": [],
   "source": [
    "max_val_var = np.nanpercentile(np.abs(shap_var), 99.9)\n",
    "max_val_mean = np.nanpercentile(np.abs(shap_mean), 99.9)\n",
    "\n",
    "fig = plt.figure(figsize=(1, 1))\n",
    "ax = plt.Axes(fig, [0., 0., 1., 1.])\n",
    "ax.set_axis_off()\n",
    "fig.add_axes(ax)\n",
    "ax.imshow(img1, cmap=\"gray\", alpha=0.8)\n",
    "ax.imshow(shap_var, cmap=colors.red_transparent_blue, vmin=-max_val_var, vmax=max_val_var, alpha=0.6)\n",
    "fig.savefig(f\"shap_var_{i}.png\", dpi=600) \n",
    "plt.close(fig)"
   ]
  },
  {
   "cell_type": "code",
   "execution_count": 47,
   "metadata": {},
   "outputs": [],
   "source": [
    "ig_mean = torch.load(f\"ig/mnist_plus_ig_double_path_extended2_mean_{i}_new.pt\", map_location=torch.device('cpu')).detach().numpy() #.unsqueeze(0).unsqueeze(-1).numpy()\n",
    "ig_var = torch.load(f\"ig/mnist_plus_ig_double_path_extended2_variance_{i}_new.pt\", map_location=torch.device('cpu')).detach().numpy()\n",
    "img1 = torch.load(f\"ig/mnist_plus_ig_double_path_extended2_input_{i}_new.pt\", map_location=torch.device('cpu')).detach().squeeze().numpy()"
   ]
  },
  {
   "cell_type": "code",
   "execution_count": 48,
   "metadata": {},
   "outputs": [],
   "source": [
    "max_val_var = np.nanpercentile(np.abs(ig_var), 99.9)\n",
    "max_val_mean = np.nanpercentile(np.abs(ig_mean), 99.9)\n",
    "\n",
    "fig = plt.figure(figsize=(1, 1))\n",
    "ax = plt.Axes(fig, [0., 0., 1., 1.])\n",
    "ax.set_axis_off()\n",
    "fig.add_axes(ax)\n",
    "ax.imshow(img1, cmap=\"gray\", alpha=0.8)\n",
    "ax.imshow(ig_var, cmap=colors.red_transparent_blue, vmin=-max_val_var, vmax=max_val_var, alpha=0.6)\n",
    "fig.savefig(f\"ig_var_{i}.png\", dpi=600) \n",
    "plt.close(fig)\n",
    "\n",
    "\n",
    "fig = plt.figure(figsize=(1, 1))\n",
    "ax = plt.Axes(fig, [0., 0., 1., 1.])\n",
    "ax.set_axis_off()\n",
    "fig.add_axes(ax)\n",
    "ax.imshow(img1, cmap=\"gray\", alpha=0.8)\n",
    "ax.imshow(ig_mean, cmap=colors.red_transparent_blue, vmin=-max_val_mean, vmax=max_val_mean, alpha=0.6)\n",
    "fig.savefig(f\"ig_mean_{i}.png\", dpi=600) \n",
    "plt.close(fig)"
   ]
  },
  {
   "cell_type": "code",
   "execution_count": 269,
   "metadata": {},
   "outputs": [],
   "source": [
    "infoshap_mean = torch.load(f\"infoshap/mnist_plus_infoshap_500_double_path_extended2_mean_{i}.pt\", map_location=torch.device('cpu')).numpy() #.unsqueeze(0).unsqueeze(-1).numpy()\n",
    "infoshap_var = torch.load(f\"infoshap/mnist_plus_infoshap_500_double_path_extended2_variance_{i}.pt\", map_location=torch.device('cpu')).numpy()\n",
    "img1 = torch.load(f\"infoshap/mnist_plus_infoshap_500_double_path_extended2_input_{i}.pt\", map_location=torch.device('cpu')).squeeze().numpy()"
   ]
  },
  {
   "cell_type": "code",
   "execution_count": 270,
   "metadata": {},
   "outputs": [],
   "source": [
    "max_val_var = np.nanpercentile(np.abs(infoshap_var), 99.9)\n",
    "max_val_mean = np.nanpercentile(np.abs(infoshap_mean), 99.9)\n",
    "\n",
    "fig = plt.figure(figsize=(1, 1))\n",
    "ax = plt.Axes(fig, [0., 0., 1., 1.])\n",
    "ax.set_axis_off()\n",
    "fig.add_axes(ax)\n",
    "ax.imshow(img1, cmap=\"gray\", alpha=0.8)\n",
    "ax.imshow(infoshap_var, cmap=colors.red_transparent_blue, vmin=-max_val_var, vmax=max_val_var, alpha=0.6)\n",
    "fig.savefig(f\"infoshap_var_{i}.png\", dpi=600) \n",
    "plt.close(fig)"
   ]
  },
  {
   "cell_type": "code",
   "execution_count": 271,
   "metadata": {},
   "outputs": [],
   "source": [
    "clue_var = np.load(\"clue/VAR_HEATMAP.npy\")[0]"
   ]
  },
  {
   "cell_type": "code",
   "execution_count": 272,
   "metadata": {},
   "outputs": [],
   "source": [
    "max_val_var = np.nanpercentile(np.abs(clue_var), 99.9)\n",
    "\n",
    "fig = plt.figure(figsize=(1, 1))\n",
    "ax = plt.Axes(fig, [0., 0., 1., 1.])\n",
    "ax.set_axis_off()\n",
    "fig.add_axes(ax)\n",
    "ax.imshow(img1, cmap=\"gray\", alpha=0.8)\n",
    "ax.imshow(clue_var, cmap=colors.red_transparent_blue, vmin=-max_val_var, vmax=max_val_var, alpha=0.6)\n",
    "fig.savefig(f\"clue_var_{i}.png\", dpi=600) \n",
    "plt.close(fig)"
   ]
  },
  {
   "cell_type": "code",
   "execution_count": 7,
   "metadata": {},
   "outputs": [],
   "source": [
    "for image_path in Path(\"image_mask_examples\").glob(\"*.pt\"):\n",
    "    img = torch.load(image_path, map_location=torch.device('cpu')).squeeze().numpy()\n",
    "    name = image_path.stem\n",
    "    \n",
    "    fig = plt.figure(figsize=(1, 1))\n",
    "    ax = plt.Axes(fig, [0., 0., 1., 1.])\n",
    "    ax.set_axis_off()\n",
    "    fig.add_axes(ax)\n",
    "    ax.imshow(img, cmap=\"gray\", alpha=0.8)\n",
    "    fig.savefig(f\"image_mask_examples/{name}.png\", dpi=600) \n",
    "    plt.close(fig)\n"
   ]
  }
 ],
 "metadata": {
  "kernelspec": {
   "display_name": "uncertainty-drivers",
   "language": "python",
   "name": "python3"
  },
  "language_info": {
   "codemirror_mode": {
    "name": "ipython",
    "version": 3
   },
   "file_extension": ".py",
   "mimetype": "text/x-python",
   "name": "python",
   "nbconvert_exporter": "python",
   "pygments_lexer": "ipython3",
   "version": "3.11.5"
  }
 },
 "nbformat": 4,
 "nbformat_minor": 2
}

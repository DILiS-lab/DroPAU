{
 "cells": [
  {
   "cell_type": "code",
   "execution_count": null,
   "metadata": {},
   "outputs": [],
   "source": [
    "import warnings\n",
    "warnings.filterwarnings('ignore')"
   ]
  },
  {
   "cell_type": "code",
   "execution_count": null,
   "metadata": {},
   "outputs": [],
   "source": [
    "import logging\n",
    "import os\n",
    "\n",
    "import torch\n",
    "from mivolo.predictor_orig import Predictor\n",
    "from timm.utils import setup_default_logging\n",
    "\n",
    "from argparse import Namespace\n"
   ]
  },
  {
   "cell_type": "markdown",
   "metadata": {},
   "source": [
    "### Loading of pre-trained model checkpoint\n"
   ]
  },
  {
   "cell_type": "code",
   "execution_count": null,
   "metadata": {},
   "outputs": [],
   "source": [
    "checkpoint_name = \"<<MIVOLO CHECKPOINT NAME>>\""
   ]
  },
  {
   "cell_type": "code",
   "execution_count": null,
   "metadata": {},
   "outputs": [],
   "source": [
    "temp_state = torch.load(f\"models/{checkpoint_name}.pth.tar\")"
   ]
  },
  {
   "cell_type": "code",
   "execution_count": null,
   "metadata": {},
   "outputs": [],
   "source": [
    "args_dict = {\n",
    "    \"output\": \"output\",\n",
    "    \"detector_weights\": \"models/yolov8x_person_face.pt\",\n",
    "    \"checkpoint\": f\"models/{checkpoint_name}.pth.tar\",\n",
    "    \"with_persons\": False,\n",
    "    \"disable_faces\": False,\n",
    "    \"draw\": False,\n",
    "    \"device\": \"cuda:0\" if torch.cuda.is_available() else \"cpu\",\n",
    "}\n",
    "\n",
    "args = Namespace(**args_dict)\n",
    "\n",
    "setup_default_logging()\n",
    "\n",
    "if torch.cuda.is_available():\n",
    "    torch.backends.cuda.matmul.allow_tf32 = True\n",
    "    torch.backends.cudnn.benchmark = True\n",
    "os.makedirs(args.output, exist_ok=True)\n",
    "\n",
    "predictor = Predictor(args, verbose=True)\n",
    "\n"
   ]
  },
  {
   "cell_type": "code",
   "execution_count": null,
   "metadata": {},
   "outputs": [],
   "source": [
    "head_weight_new = torch.nn.parameter.Parameter(torch.concat([\n",
    "    predictor.age_gender_model.model.head.weight,\n",
    "    torch.nn.init.xavier_normal_(torch.zeros(1, predictor.age_gender_model.model.head.weight.shape[-1])).to(args.device),\n",
    "]))\n",
    "\n",
    "aux_head_weight_new = torch.nn.parameter.Parameter(torch.concat([\n",
    "    predictor.age_gender_model.model.aux_head.weight,\n",
    "    torch.nn.init.xavier_normal_(torch.zeros(1, predictor.age_gender_model.model.aux_head.weight.shape[-1])).to(args.device),\n",
    "]))\n",
    "\n",
    "\n",
    "head_bias_new = torch.nn.parameter.Parameter(torch.concat([\n",
    "    predictor.age_gender_model.model.head.bias,\n",
    "    torch.zeros(1).to(args.device),\n",
    "]))\n",
    "\n",
    "aux_head_bias_new = torch.nn.parameter.Parameter(torch.concat([\n",
    "    predictor.age_gender_model.model.aux_head.bias,\n",
    "    torch.zeros(1).to(args.device),\n",
    "]))"
   ]
  },
  {
   "cell_type": "code",
   "execution_count": null,
   "metadata": {},
   "outputs": [],
   "source": [
    "predictor.age_gender_model.model.head.weight = head_weight_new\n",
    "predictor.age_gender_model.model.aux_head.weight = aux_head_weight_new\n",
    "\n",
    "predictor.age_gender_model.model.head.bias = head_bias_new\n",
    "predictor.age_gender_model.model.aux_head.bias = aux_head_bias_new\n"
   ]
  },
  {
   "cell_type": "code",
   "execution_count": null,
   "metadata": {},
   "outputs": [],
   "source": [
    "temp_state[\"state_dict\"] = predictor.age_gender_model.model.state_dict()\n",
    "temp_state[\"with_persons_model\"] = False"
   ]
  },
  {
   "cell_type": "code",
   "execution_count": null,
   "metadata": {},
   "outputs": [],
   "source": [
    "torch.save(temp_state, \"models/mivolo_imdb_adjusted.pth.tar\")"
   ]
  }
 ],
 "metadata": {
  "kernelspec": {
   "display_name": "mivolo",
   "language": "python",
   "name": "python3"
  },
  "language_info": {
   "codemirror_mode": {
    "name": "ipython",
    "version": 3
   },
   "file_extension": ".py",
   "mimetype": "text/x-python",
   "name": "python",
   "nbconvert_exporter": "python",
   "pygments_lexer": "ipython3",
   "version": "3.11.4"
  },
  "orig_nbformat": 4
 },
 "nbformat": 4,
 "nbformat_minor": 2
}

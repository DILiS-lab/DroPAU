{
 "cells": [
  {
   "cell_type": "code",
   "execution_count": null,
   "metadata": {},
   "outputs": [],
   "source": [
    "import warnings\n",
    "warnings.filterwarnings('ignore')"
   ]
  },
  {
   "cell_type": "code",
   "execution_count": null,
   "metadata": {},
   "outputs": [],
   "source": [
    "import argparse\n",
    "import os\n",
    "\n",
    "import torch\n",
    "from mivolo.data.dataset.age_gender_dataset import AgeGenderDataset\n",
    "from mivolo.data.dataset.age_gender_loader import create_loader\n",
    "from mivolo.predictor import Predictor\n",
    "from timm.utils import setup_default_logging\n",
    "from tqdm import tqdm\n",
    "\n",
    "import pandas as pd"
   ]
  },
  {
   "cell_type": "code",
   "execution_count": null,
   "metadata": {},
   "outputs": [],
   "source": [
    "checkpoint_name = \"variance_feature_attribution_mivolo_checkpoint\""
   ]
  },
  {
   "cell_type": "markdown",
   "metadata": {},
   "source": [
    "### Load model and dataset"
   ]
  },
  {
   "cell_type": "code",
   "execution_count": null,
   "metadata": {},
   "outputs": [],
   "source": [
    "args_dict = {\n",
    "    \"output\": \"output\",\n",
    "    \"detector_weights\": \"models/yolov8x_person_face.pt\",\n",
    "    \"checkpoint\": f\"models/{checkpoint_name}.pth.tar\",\n",
    "    \"with_persons\": False,\n",
    "    \"disable_faces\": False,\n",
    "    \"draw\": False,\n",
    "    \"device\": \"cuda:0\" if torch.cuda.is_available() else \"cpu\",\n",
    "}\n",
    "\n",
    "args = argparse.Namespace(**args_dict)\n",
    "\n",
    "setup_default_logging()\n",
    "\n",
    "if torch.cuda.is_available():\n",
    "    torch.backends.cuda.matmul.allow_tf32 = True\n",
    "    torch.backends.cudnn.benchmark = True\n",
    "os.makedirs(args.output, exist_ok=True)\n",
    "\n",
    "predictor = Predictor(args, verbose=True)\n",
    "\n",
    "\n"
   ]
  },
  {
   "cell_type": "code",
   "execution_count": null,
   "metadata": {},
   "outputs": [],
   "source": [
    "# Loading the dataset\n",
    "test_dataset = AgeGenderDataset(\n",
    "    \"mivolo/data/dataset/images\",\n",
    "    \"mivolo/data/dataset/annotations\",\n",
    "    name=\"test\",\n",
    "    split=\"test\",\n",
    "    use_persons=False,\n",
    "    model_with_persons=False,\n",
    "    is_training=False,\n",
    "    min_age=predictor.age_gender_model.meta.min_age,\n",
    "    max_age=predictor.age_gender_model.meta.max_age\n",
    ")"
   ]
  },
  {
   "cell_type": "code",
   "execution_count": null,
   "metadata": {},
   "outputs": [],
   "source": []
  },
  {
   "cell_type": "code",
   "execution_count": null,
   "metadata": {},
   "outputs": [],
   "source": [
    "test_loader = create_loader(\n",
    "    test_dataset,\n",
    "    (3, 224, 224),\n",
    "    1,\n",
    "    num_workers=8,\n",
    "    crop_pct=None,\n",
    "    crop_mode=None,\n",
    "    pin_memory=True,\n",
    "    img_dtype=torch.float32,\n",
    "    device=torch.device(\"cuda\" if torch.cuda.is_available() else \"cpu\"),\n",
    "    persistent_workers=True,\n",
    "    worker_seeding=\"all\",\n",
    "    target_type=torch.float,\n",
    ")"
   ]
  },
  {
   "cell_type": "code",
   "execution_count": null,
   "metadata": {},
   "outputs": [],
   "source": [
    "\n",
    "batch_results = []\n",
    "\n",
    "model = predictor.age_gender_model.model\n",
    "model.eval()\n",
    "\n",
    "for inputs, labels in tqdm(test_loader):\n",
    "    # Forward pass\n",
    "    output = model(inputs)\n",
    "\n",
    "\n",
    "    age_output = output[:, 2]  * (predictor.age_gender_model.meta.max_age - predictor.age_gender_model.meta.min_age) + predictor.age_gender_model.meta.avg_age\n",
    "    age_variance_raw = output[:, 3].exp()\n",
    "    age_variance = age_variance_raw  * (predictor.age_gender_model.meta.max_age - predictor.age_gender_model.meta.min_age) ** 2 \n",
    "    age_target = labels[:, 0] * (predictor.age_gender_model.meta.max_age - predictor.age_gender_model.meta.min_age) + predictor.age_gender_model.meta.avg_age\n",
    "    gender_output = output[:, :2].softmax(-1)\n",
    "    gender_m = gender_output[:, 0]\n",
    "    gender_f = gender_output[:, 1]\n",
    "\n",
    "    batch_results.append(pd.DataFrame({\"age_pred\": age_output.detach().cpu(), \n",
    "                                    #    \"age_var_raw\": age_variance_raw.cpu(), \n",
    "                                        \"age_var\": age_variance.detach().cpu(), \n",
    "                                        \"age_target\": age_target.detach().cpu(), \n",
    "                                        \"gender_m\": gender_m.detach().cpu(), \n",
    "                                        \"gender_f\": gender_f.detach().cpu(), \n",
    "                                        \"gender_target\": labels[:, 1].type(torch.LongTensor)}))\n",
    "\n",
    "\n",
    "output = pd.concat(batch_results).reset_index(drop=True)\n",
    "  \n"
   ]
  },
  {
   "cell_type": "markdown",
   "metadata": {},
   "source": [
    "### Run inference on the test set and save"
   ]
  },
  {
   "cell_type": "code",
   "execution_count": null,
   "metadata": {},
   "outputs": [],
   "source": [
    "filenames = test_loader.dataset.filenames()\n",
    "output[\"filename\"] = filenames"
   ]
  },
  {
   "cell_type": "code",
   "execution_count": null,
   "metadata": {},
   "outputs": [],
   "source": [
    "output = output.sort_values(\"age_var\", ascending=False).reset_index(drop=True)"
   ]
  },
  {
   "cell_type": "code",
   "execution_count": null,
   "metadata": {},
   "outputs": [],
   "source": [
    "output.to_csv(f\"test_results_{checkpoint_name}_test.csv\", index=False)"
   ]
  },
  {
   "cell_type": "code",
   "execution_count": null,
   "metadata": {},
   "outputs": [],
   "source": []
  }
 ],
 "metadata": {
  "kernelspec": {
   "display_name": "mivolo",
   "language": "python",
   "name": "python3"
  },
  "language_info": {
   "codemirror_mode": {
    "name": "ipython",
    "version": 3
   },
   "file_extension": ".py",
   "mimetype": "text/x-python",
   "name": "python",
   "nbconvert_exporter": "python",
   "pygments_lexer": "ipython3",
   "version": "3.11.5"
  },
  "orig_nbformat": 4
 },
 "nbformat": 4,
 "nbformat_minor": 2
}

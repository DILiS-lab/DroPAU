{
 "cells": [
  {
   "cell_type": "code",
   "execution_count": null,
   "metadata": {},
   "outputs": [],
   "source": [
    "\"\"\"\n",
    "Code (show_cam_on_image and generate_visualization) adapted from https://github.com/hila-chefer/Transformer-Explainability\n",
    "\n",
    "Modifications and additions for variance feature attribution\n",
    "\"\"\""
   ]
  },
  {
   "cell_type": "code",
   "execution_count": null,
   "metadata": {},
   "outputs": [],
   "source": [
    "import warnings\n",
    "warnings.filterwarnings('ignore')"
   ]
  },
  {
   "cell_type": "code",
   "execution_count": null,
   "metadata": {},
   "outputs": [],
   "source": [
    "import argparse\n",
    "import os\n",
    "import cv2\n",
    "\n",
    "import torch\n",
    "from mivolo.model.explanation_generator import CAM\n",
    "from mivolo.data.dataset.age_gender_dataset import AgeGenderDataset\n",
    "from mivolo.data.dataset.age_gender_loader import create_loader\n",
    "from mivolo.predictor import Predictor\n",
    "from timm.utils import setup_default_logging\n",
    "from tqdm import tqdm\n",
    "\n",
    "\n",
    "import matplotlib.pyplot as plt\n",
    "import numpy as np"
   ]
  },
  {
   "cell_type": "code",
   "execution_count": null,
   "metadata": {},
   "outputs": [],
   "source": [
    "checkpoint_name = \"variance_feature_attribution_mivolo_checkpoint\""
   ]
  },
  {
   "cell_type": "markdown",
   "metadata": {},
   "source": [
    "### Load model and dataset"
   ]
  },
  {
   "cell_type": "code",
   "execution_count": null,
   "metadata": {},
   "outputs": [],
   "source": [
    "args_dict = {\n",
    "    \"output\": \"output\",\n",
    "    \"detector_weights\": \"models/yolov8x_person_face.pt\",\n",
    "    \"checkpoint\": f\"models/{checkpoint_name}.pth.tar\",\n",
    "    \"with_persons\": False,\n",
    "    \"disable_faces\": False,\n",
    "    \"draw\": False,\n",
    "    \"device\": \"cuda:0\" if torch.cuda.is_available() else \"cpu\",\n",
    "    \"half\": False,\n",
    "}\n",
    "\n",
    "args = argparse.Namespace(**args_dict)\n",
    "\n",
    "setup_default_logging()\n",
    "\n",
    "if torch.cuda.is_available():\n",
    "    torch.backends.cuda.matmul.allow_tf32 = True\n",
    "    torch.backends.cudnn.benchmark = True\n",
    "os.makedirs(args.output, exist_ok=True)\n",
    "\n",
    "predictor = Predictor(args, verbose=True)\n",
    "\n"
   ]
  },
  {
   "cell_type": "code",
   "execution_count": null,
   "metadata": {},
   "outputs": [],
   "source": [
    "test_dataset = AgeGenderDataset(\n",
    "    \"mivolo/data/dataset/images\",\n",
    "    \"mivolo/data/dataset/annotations\",\n",
    "    name=\"examples\",\n",
    "    split=\"example\",\n",
    "    use_persons=False,\n",
    "    model_with_persons=False,\n",
    "    is_training=False,\n",
    "    min_age=predictor.age_gender_model.meta.min_age,\n",
    "    max_age=predictor.age_gender_model.meta.max_age\n",
    ")"
   ]
  },
  {
   "cell_type": "code",
   "execution_count": null,
   "metadata": {},
   "outputs": [],
   "source": [
    "test_loader = create_loader(\n",
    "    test_dataset,\n",
    "    (3, 224, 224),\n",
    "    1,\n",
    "    num_workers=1,\n",
    "    crop_pct=None,\n",
    "    crop_mode=None,\n",
    "    pin_memory=False,\n",
    "    img_dtype=torch.float32,\n",
    "    device=torch.device(\"cuda\" if torch.cuda.is_available() else \"cpu\"),\n",
    "    persistent_workers=True,\n",
    "    worker_seeding=\"all\",\n",
    "    target_type=torch.float,\n",
    ")"
   ]
  },
  {
   "cell_type": "markdown",
   "metadata": {},
   "source": [
    "### Prepare for explanations"
   ]
  },
  {
   "cell_type": "code",
   "execution_count": null,
   "metadata": {},
   "outputs": [],
   "source": [
    "model = predictor.age_gender_model.model\n",
    "model.eval()\n",
    "\n",
    "cam_generator = CAM(model)"
   ]
  },
  {
   "cell_type": "code",
   "execution_count": null,
   "metadata": {},
   "outputs": [],
   "source": [
    "def show_cam_on_image(img, mask):\n",
    "    heatmap = cv2.applyColorMap(np.uint8(255 * mask), cv2.COLORMAP_JET)\n",
    "    heatmap = np.float32(heatmap) / 255\n",
    "    cam = heatmap + np.float32(img)\n",
    "    cam = cam / np.max(cam)\n",
    "    return cam\n",
    "\n",
    "\n",
    "def generate_visualization(original_image, method=\"hiresCAM\", index=3):\n",
    "    if method == \"gradCAM\":\n",
    "            transformer_attribution = cam_generator.generate_grad_cam_attn(\n",
    "                original_image, index=index\n",
    "            ).detach()\n",
    "    elif method == \"hiresCAM\":\n",
    "            transformer_attribution = (\n",
    "                cam_generator.generate_hires_cam_attn(\n",
    "                    original_image, index=index\n",
    "                ).detach()\n",
    "            )\n",
    "\n",
    "    transformer_attribution = transformer_attribution.reshape(1, 1, 14, 14)\n",
    "    transformer_attribution = torch.nn.functional.interpolate(transformer_attribution, scale_factor=16, mode='bilinear')\n",
    "\n",
    "    transformer_attribution = transformer_attribution.reshape(224, 224)\n",
    "    transformer_attribution = transformer_attribution.data.cpu().numpy()\n",
    "    transformer_attribution = (transformer_attribution - transformer_attribution.min()) / (transformer_attribution.max() - transformer_attribution.min())\n",
    "\n",
    "    normalization_shape = (1, 3, 1, 1)\n",
    "\n",
    "    mean = (0.485, 0.456, 0.406)\n",
    "    std = (0.229, 0.224, 0.225)\n",
    "\n",
    "    mean = torch.tensor(\n",
    "        [x * 255 for x in mean], device=\"cuda\"\n",
    "    ).view(normalization_shape)\n",
    "    std = torch.tensor(\n",
    "        [x * 255 for x in std], device=\"cuda\"\n",
    "    ).view(normalization_shape)\n",
    "\n",
    "    image_transformer_attribution = original_image.mul_(std).add_(mean).div_(255).relu().squeeze().permute(1, 2, 0).data.cpu().numpy() \n",
    "\n",
    "    vis = show_cam_on_image(image_transformer_attribution, transformer_attribution)\n",
    "    vis =  np.uint8(255 * vis)\n",
    "    vis = cv2.cvtColor(np.array(vis), cv2.COLOR_RGB2BGR)\n",
    "    return vis, image_transformer_attribution"
   ]
  },
  {
   "cell_type": "markdown",
   "metadata": {},
   "source": [
    "### Show example visualisations from manuscript"
   ]
  },
  {
   "cell_type": "code",
   "execution_count": null,
   "metadata": {},
   "outputs": [],
   "source": [
    "filenames = test_loader.dataset.filenames()\n",
    "\n",
    "fig = plt.figure(figsize=(10, 10))\n",
    "columns = 3\n",
    "rows = 4\n",
    "\n",
    "for idx, (inputs, labels) in tqdm(enumerate(test_loader), total=len(filenames)):\n",
    "    explanation, clean = generate_visualization(inputs, method=\"hiresCAM\")\n",
    "    fig.add_subplot(rows, columns, idx+1)\n",
    "    plt.imshow(explanation)\n",
    "    plt.axis('off')\n",
    "plt.show()"
   ]
  },
  {
   "cell_type": "code",
   "execution_count": null,
   "metadata": {},
   "outputs": [],
   "source": [
    "filenames = test_loader.dataset.filenames()\n",
    "\n",
    "fig = plt.figure(figsize=(10, 10))\n",
    "columns = 3\n",
    "rows = 4\n",
    "\n",
    "for idx, (inputs, labels) in tqdm(enumerate(test_loader), total=len(filenames)):\n",
    "    explanation, clean = generate_visualization(inputs, method=\"hiresCAM\")\n",
    "    fig.add_subplot(rows, columns, idx+1)\n",
    "    plt.imshow(clean)\n",
    "    plt.axis('off')\n",
    "plt.show()"
   ]
  }
 ],
 "metadata": {
  "kernelspec": {
   "display_name": "mivolo",
   "language": "python",
   "name": "python3"
  },
  "language_info": {
   "codemirror_mode": {
    "name": "ipython",
    "version": 3
   },
   "file_extension": ".py",
   "mimetype": "text/x-python",
   "name": "python",
   "nbconvert_exporter": "python",
   "pygments_lexer": "ipython3",
   "version": "3.11.5"
  },
  "orig_nbformat": 4
 },
 "nbformat": 4,
 "nbformat_minor": 2
}

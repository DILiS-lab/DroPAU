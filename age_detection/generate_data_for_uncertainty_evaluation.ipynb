{
 "cells": [
  {
   "cell_type": "code",
   "execution_count": null,
   "metadata": {},
   "outputs": [],
   "source": [
    "import pandas as pd\n",
    "import numpy as np\n",
    "import scipy.stats as stats"
   ]
  },
  {
   "cell_type": "code",
   "execution_count": null,
   "metadata": {},
   "outputs": [],
   "source": [
    "def create_error_reduce_data(results: pd.DataFrame, save_dir: str, with_baseline=True, baseline=\"distance_mean\", with_gt_noise_std=True):\n",
    "\n",
    "    results[\"sq_error\"] = (results[\"response\"] - results[\"y_preds\"]) ** 2\n",
    "    results_ordered = results.sort_values(\"y_uncertainty\")\n",
    "\n",
    "    results_ordered[\"cummulative_sq_error\"] = np.cumsum(\n",
    "        results_ordered[\"sq_error\"]\n",
    "    ) / range(1, len(results_ordered) + 1)\n",
    "\n",
    "    results[\"distance_from_mean\"] = np.abs(\n",
    "        results[\"y_preds\"] - results[\"y_preds\"].mean()\n",
    "    )\n",
    "    \n",
    "    if baseline == \"pred_value\":\n",
    "        results_sorted_baseline = results.sort_values(\"y_preds\")\n",
    "\n",
    "        results_sorted_baseline[\"cummulative_sq_error\"] = np.cumsum(\n",
    "            results_sorted_baseline[\"sq_error\"]\n",
    "        ) / range(1, len(results_sorted_baseline) + 1)\n",
    "    elif baseline == \"distance_mean\":\n",
    "        results[\"distance_from_mean\"] = np.abs(\n",
    "        results[\"y_preds\"] - results[\"y_preds\"].mean()\n",
    "        )\n",
    "        results_sorted_baseline = results.sort_values(\"distance_from_mean\")\n",
    "        results_sorted_baseline[\"cummulative_sq_error\"] = np.cumsum(\n",
    "        results_sorted_baseline[\"sq_error\"]\n",
    "    ) / range(1, len(results_sorted_baseline) + 1)\n",
    "        \n",
    "    else:\n",
    "        raise ValueError(\"baseline must be 'pred_value' or 'distance_mean'\")\n",
    "  \n",
    "    if with_gt_noise_std:    \n",
    "        results_sorted_gt_noise_std = results.sort_values(\"noise_std_test\")\n",
    "        results_sorted_gt_noise_std[\"cummulative_sq_error\"] = np.cumsum(\n",
    "            results_sorted_gt_noise_std[\"sq_error\"]\n",
    "        ) / range(1, len(results_sorted_gt_noise_std) + 1)\n",
    "    \n",
    "\n",
    "\n",
    "    pd.DataFrame(results_ordered).to_csv(f'{save_dir}_uncertainty.csv')\n",
    "\n",
    "\n",
    "    if with_baseline:\n",
    "        pd.DataFrame(results_sorted_baseline).to_csv(f'{save_dir}_baseline.csv')\n",
    "    if with_gt_noise_std:\n",
    "        pd.DataFrame(results_sorted_gt_noise_std).to_csv(f'{save_dir}_ground_truth_std.csv')\n",
    "       "
   ]
  },
  {
   "cell_type": "code",
   "execution_count": null,
   "metadata": {},
   "outputs": [],
   "source": [
    "\n",
    "def create_calibration_data(results, save_dir):\n",
    "    pms = np.linspace(0, 1, 21)\n",
    "    fx_y = (results[\"response\"]- results[\"y_preds\"])/np.sqrt(results[\"y_uncertainty\"])\n",
    "    cdf_fxy= stats.norm(loc=0, scale=1).cdf(fx_y)\n",
    "    empirical_frequency = [np.mean(cdf_fxy < pm) for pm in pms]\n",
    "\n",
    "    pd.DataFrame({\"pms\": pms, \"empirical_frequency\": empirical_frequency}).to_csv(f'{save_dir}_calibration_data.csv')\n",
    "\n"
   ]
  },
  {
   "cell_type": "code",
   "execution_count": null,
   "metadata": {},
   "outputs": [],
   "source": [
    "results = pd.read_csv(\"test_results_variance_feature_attribution_mivolo_checkpoint.csv\").rename(columns={'age_pred':'y_preds', 'age_var': 'y_uncertainty', 'age_target': 'response'})\n",
    "create_error_reduce_data(results, save_dir=\"../plotting/data/age_detection_qual\", with_baseline=True, baseline=\"pred_value\", with_gt_noise_std=False)"
   ]
  }
 ],
 "metadata": {
  "kernelspec": {
   "display_name": "clue",
   "language": "python",
   "name": "python3"
  },
  "language_info": {
   "codemirror_mode": {
    "name": "ipython",
    "version": 3
   },
   "file_extension": ".py",
   "mimetype": "text/x-python",
   "name": "python",
   "nbconvert_exporter": "python",
   "pygments_lexer": "ipython3",
   "version": "3.11.4"
  },
  "orig_nbformat": 4
 },
 "nbformat": 4,
 "nbformat_minor": 2
}

{
 "cells": [
  {
   "cell_type": "code",
   "execution_count": 1,
   "metadata": {},
   "outputs": [],
   "source": [
    "import pandas as pd\n",
    "import numpy as np"
   ]
  },
  {
   "cell_type": "code",
   "execution_count": 2,
   "metadata": {},
   "outputs": [],
   "source": [
    "n=40000\n",
    "noise_scaler = 2.0\n",
    "n_test =1500\n",
    "n_exp= 200\n",
    "identifier = f\"n_{n}_s_{noise_scaler:.2f}_n_test_{n_test}_n_exp_{n_exp}\"\n",
    "\n",
    "save_dir = \"results/new_synthetic/\"\n",
    "# pd.read_csv(f\"{save_dir}comptime/{identifier}_time_elapsed.csv\")\n"
   ]
  },
  {
   "cell_type": "code",
   "execution_count": 3,
   "metadata": {},
   "outputs": [],
   "source": [
    "\n",
    "\n",
    "def load_importances(method: str, identifier: str, save_dir: str, uncertainty_ind: str = None, i: int = 0):\n",
    "    \n",
    "    uncertainty_ind = f\"_{uncertainty_ind}\"\n",
    "    importance = np.load(f\"{save_dir}importances/{method}_importances_{identifier}_run_{i}{uncertainty_ind}.npy\", allow_pickle=True).item()\n",
    "    \n",
    "    imp_directed_id = \"importance_directed\"\n",
    "    return {\"importance_directed\": importance[imp_directed_id],\n",
    "             \"importance\": importance[\"importance\"],\n",
    "             \"var_names\": importance[\"var_names\"]} \n",
    "    \n"
   ]
  },
  {
   "cell_type": "code",
   "execution_count": 4,
   "metadata": {},
   "outputs": [
    {
     "ename": "FileNotFoundError",
     "evalue": "[Errno 2] No such file or directory: 'results/new_synthetic/importances/VarX_importances_n_40000_s_2.00_n_test_1500_n_exp_200_run_0_randomU.npy'",
     "output_type": "error",
     "traceback": [
      "\u001b[0;31m---------------------------------------------------------------------------\u001b[0m",
      "\u001b[0;31mFileNotFoundError\u001b[0m                         Traceback (most recent call last)",
      "Cell \u001b[0;32mIn[4], line 1\u001b[0m\n\u001b[0;32m----> 1\u001b[0m shapley_values \u001b[38;5;241m=\u001b[39m \u001b[43mload_importances\u001b[49m\u001b[43m(\u001b[49m\u001b[43mmethod\u001b[49m\u001b[38;5;241;43m=\u001b[39;49m\u001b[38;5;124;43m\"\u001b[39;49m\u001b[38;5;124;43mVarX\u001b[39;49m\u001b[38;5;124;43m\"\u001b[39;49m\u001b[43m,\u001b[49m\u001b[43m \u001b[49m\u001b[43midentifier\u001b[49m\u001b[38;5;241;43m=\u001b[39;49m\u001b[43midentifier\u001b[49m\u001b[43m,\u001b[49m\u001b[43m \u001b[49m\u001b[43msave_dir\u001b[49m\u001b[38;5;241;43m=\u001b[39;49m\u001b[43msave_dir\u001b[49m\u001b[43m,\u001b[49m\u001b[43m \u001b[49m\u001b[43muncertainty_ind\u001b[49m\u001b[38;5;241;43m=\u001b[39;49m\u001b[38;5;124;43m\"\u001b[39;49m\u001b[38;5;124;43mrandomU\u001b[39;49m\u001b[38;5;124;43m\"\u001b[39;49m\u001b[43m,\u001b[49m\u001b[43m \u001b[49m\u001b[43mi\u001b[49m\u001b[38;5;241;43m=\u001b[39;49m\u001b[38;5;241;43m0\u001b[39;49m\u001b[43m)\u001b[49m[\u001b[38;5;124m\"\u001b[39m\u001b[38;5;124mimportance_directed\u001b[39m\u001b[38;5;124m\"\u001b[39m]\n\u001b[1;32m      2\u001b[0m figure_save_dir \u001b[38;5;241m=\u001b[39m \u001b[38;5;124m\"\u001b[39m\u001b[38;5;124m\"\u001b[39m\n\u001b[1;32m      3\u001b[0m \u001b[38;5;28;01mimport\u001b[39;00m \u001b[38;5;21;01mshap\u001b[39;00m\n",
      "Cell \u001b[0;32mIn[3], line 4\u001b[0m, in \u001b[0;36mload_importances\u001b[0;34m(method, identifier, save_dir, uncertainty_ind, i)\u001b[0m\n\u001b[1;32m      1\u001b[0m \u001b[38;5;28;01mdef\u001b[39;00m \u001b[38;5;21mload_importances\u001b[39m(method: \u001b[38;5;28mstr\u001b[39m, identifier: \u001b[38;5;28mstr\u001b[39m, save_dir: \u001b[38;5;28mstr\u001b[39m, uncertainty_ind: \u001b[38;5;28mstr\u001b[39m \u001b[38;5;241m=\u001b[39m \u001b[38;5;28;01mNone\u001b[39;00m, i: \u001b[38;5;28mint\u001b[39m \u001b[38;5;241m=\u001b[39m \u001b[38;5;241m0\u001b[39m):\n\u001b[1;32m      3\u001b[0m     uncertainty_ind \u001b[38;5;241m=\u001b[39m \u001b[38;5;124mf\u001b[39m\u001b[38;5;124m\"\u001b[39m\u001b[38;5;124m_\u001b[39m\u001b[38;5;132;01m{\u001b[39;00muncertainty_ind\u001b[38;5;132;01m}\u001b[39;00m\u001b[38;5;124m\"\u001b[39m\n\u001b[0;32m----> 4\u001b[0m     importance \u001b[38;5;241m=\u001b[39m \u001b[43mnp\u001b[49m\u001b[38;5;241;43m.\u001b[39;49m\u001b[43mload\u001b[49m\u001b[43m(\u001b[49m\u001b[38;5;124;43mf\u001b[39;49m\u001b[38;5;124;43m\"\u001b[39;49m\u001b[38;5;132;43;01m{\u001b[39;49;00m\u001b[43msave_dir\u001b[49m\u001b[38;5;132;43;01m}\u001b[39;49;00m\u001b[38;5;124;43mimportances/\u001b[39;49m\u001b[38;5;132;43;01m{\u001b[39;49;00m\u001b[43mmethod\u001b[49m\u001b[38;5;132;43;01m}\u001b[39;49;00m\u001b[38;5;124;43m_importances_\u001b[39;49m\u001b[38;5;132;43;01m{\u001b[39;49;00m\u001b[43midentifier\u001b[49m\u001b[38;5;132;43;01m}\u001b[39;49;00m\u001b[38;5;124;43m_run_\u001b[39;49m\u001b[38;5;132;43;01m{\u001b[39;49;00m\u001b[43mi\u001b[49m\u001b[38;5;132;43;01m}\u001b[39;49;00m\u001b[38;5;132;43;01m{\u001b[39;49;00m\u001b[43muncertainty_ind\u001b[49m\u001b[38;5;132;43;01m}\u001b[39;49;00m\u001b[38;5;124;43m.npy\u001b[39;49m\u001b[38;5;124;43m\"\u001b[39;49m\u001b[43m,\u001b[49m\u001b[43m \u001b[49m\u001b[43mallow_pickle\u001b[49m\u001b[38;5;241;43m=\u001b[39;49m\u001b[38;5;28;43;01mTrue\u001b[39;49;00m\u001b[43m)\u001b[49m\u001b[38;5;241m.\u001b[39mitem()\n\u001b[1;32m      6\u001b[0m     imp_directed_id \u001b[38;5;241m=\u001b[39m \u001b[38;5;124m\"\u001b[39m\u001b[38;5;124mimportance_directed\u001b[39m\u001b[38;5;124m\"\u001b[39m\n\u001b[1;32m      7\u001b[0m     \u001b[38;5;28;01mreturn\u001b[39;00m {\u001b[38;5;124m\"\u001b[39m\u001b[38;5;124mimportance_directed\u001b[39m\u001b[38;5;124m\"\u001b[39m: importance[imp_directed_id],\n\u001b[1;32m      8\u001b[0m              \u001b[38;5;124m\"\u001b[39m\u001b[38;5;124mimportance\u001b[39m\u001b[38;5;124m\"\u001b[39m: importance[\u001b[38;5;124m\"\u001b[39m\u001b[38;5;124mimportance\u001b[39m\u001b[38;5;124m\"\u001b[39m],\n\u001b[1;32m      9\u001b[0m              \u001b[38;5;124m\"\u001b[39m\u001b[38;5;124mvar_names\u001b[39m\u001b[38;5;124m\"\u001b[39m: importance[\u001b[38;5;124m\"\u001b[39m\u001b[38;5;124mvar_names\u001b[39m\u001b[38;5;124m\"\u001b[39m]}\n",
      "File \u001b[0;32m~/miniconda3/envs/clue/lib/python3.11/site-packages/numpy/lib/npyio.py:405\u001b[0m, in \u001b[0;36mload\u001b[0;34m(file, mmap_mode, allow_pickle, fix_imports, encoding, max_header_size)\u001b[0m\n\u001b[1;32m    403\u001b[0m     own_fid \u001b[38;5;241m=\u001b[39m \u001b[38;5;28;01mFalse\u001b[39;00m\n\u001b[1;32m    404\u001b[0m \u001b[38;5;28;01melse\u001b[39;00m:\n\u001b[0;32m--> 405\u001b[0m     fid \u001b[38;5;241m=\u001b[39m stack\u001b[38;5;241m.\u001b[39menter_context(\u001b[38;5;28;43mopen\u001b[39;49m\u001b[43m(\u001b[49m\u001b[43mos_fspath\u001b[49m\u001b[43m(\u001b[49m\u001b[43mfile\u001b[49m\u001b[43m)\u001b[49m\u001b[43m,\u001b[49m\u001b[43m \u001b[49m\u001b[38;5;124;43m\"\u001b[39;49m\u001b[38;5;124;43mrb\u001b[39;49m\u001b[38;5;124;43m\"\u001b[39;49m\u001b[43m)\u001b[49m)\n\u001b[1;32m    406\u001b[0m     own_fid \u001b[38;5;241m=\u001b[39m \u001b[38;5;28;01mTrue\u001b[39;00m\n\u001b[1;32m    408\u001b[0m \u001b[38;5;66;03m# Code to distinguish from NumPy binary files and pickles.\u001b[39;00m\n",
      "\u001b[0;31mFileNotFoundError\u001b[0m: [Errno 2] No such file or directory: 'results/new_synthetic/importances/VarX_importances_n_40000_s_2.00_n_test_1500_n_exp_200_run_0_randomU.npy'"
     ]
    }
   ],
   "source": [
    "shapley_values = load_importances(method=\"VarX\", identifier=identifier, save_dir=save_dir, uncertainty_ind=\"randomU\", i=0)[\"importance_directed\"]\n",
    "figure_save_dir = \"\"\n",
    "import shap\n",
    "from matplotlib import pyplot as plt\n",
    "\n",
    "#plt.rcParams[\"font.family\"] = \"Arial\"\n",
    "var_names =  [f\"Mean f. {i}\" for i in range(70)] + [\n",
    "            f\"Noise f. {i}\" for i in range(5)\n",
    "        ]\n",
    "data = np.load(f\"{save_dir}data_{identifier}.npz\")\n",
    "x_test = data[\"x_test\"]\n",
    "test_output = pd.read_csv(f\"{save_dir}models/pnn_{identifier}/pnn_test_output.csv\").to_dict(\"list\")\n",
    "#shap.summary_plot(shapley_values, var_names, plot_type=\"bar\")\n",
    "\n",
    "top = len(shapley_values)\n",
    "top_uncertainty_ind = np.argsort(test_output[\"sigma_test\"])[-top:]\n",
    "top_uncertainty_instances = x_test[top_uncertainty_ind]\n",
    "\n",
    "\n",
    "\n",
    "shap.summary_plot(shapley_values,top_uncertainty_instances, var_names, plot_type=\"dot\", max_display=10, show=False, plot_size=[9,5])\n",
    "fig, ax = plt.gcf(), plt.gca()\n",
    "\n",
    "# Get colorbar\n",
    "cb_ax = fig.axes[1] \n",
    "add = 10\n",
    "# Modifying color bar parameters\n",
    "cb_ax.tick_params(labelsize=17+add)\n",
    "cb_ax.set_ylabel(\"Feature value\", fontsize=19+add)\n",
    "# set the xlim\n",
    "plt.xlim(-1, 3)\n",
    "\n",
    "label_ax = fig.axes[0]\n",
    "label_ax.tick_params(labelsize=18+add)\n",
    "ax.set_xlabel(\"SHAP Value\", fontsize=20+add)\n",
    "\n",
    "# Make x ticks beginning with \"noise\" bold\n",
    "for tick_label in ax.get_yticklabels():\n",
    "    if tick_label.get_text().startswith(\"Noise\"):\n",
    "        tick_label.set_fontweight(\"bold\")\n",
    "        \n",
    "plt.title(\"Variance output\", fontsize=20+add)\n",
    "\n",
    "#plt.savefig(f\"{figure_save_dir}/shap_randomU.png\", dpi=800, bbox_inches='tight')\n",
    "#plt.savefig(f\"{figure_save_dir}/shap_randomU.pdf\", format='pdf', bbox_inches='tight')\n"
   ]
  },
  {
   "cell_type": "code",
   "execution_count": null,
   "metadata": {},
   "outputs": [],
   "source": [
    "\n",
    "\n",
    "def load_importances(method: str, identifier: str, save_dir: str, uncertainty_ind: str = None, i: int = 0):\n",
    "    \n",
    "    uncertainty_ind = f\"_{uncertainty_ind}\"\n",
    "    importance = np.load(f\"{save_dir}importances/{method}_importances_{identifier}_run_{i}{uncertainty_ind}.npy\", allow_pickle=True).item()\n",
    "    print(importance.keys())\n",
    "    imp_directed_id = \"importances_directed\"\n",
    "    return {\"importance_directed\": importance[imp_directed_id],\n",
    "             \"importance\": importance[\"importance\"],\n",
    "             \"var_names\": importance[\"var_names\"]} \n",
    "    \n"
   ]
  },
  {
   "cell_type": "code",
   "execution_count": null,
   "metadata": {},
   "outputs": [],
   "source": [
    "shapley_values = load_importances(method=\"mean\", identifier=identifier, save_dir=save_dir, uncertainty_ind=\"randomU\", i=0)[\"importance_directed\"]\n",
    "import shap\n",
    "from matplotlib import pyplot as plt\n",
    "\n",
    "#plt.rcParams[\"font.family\"] = \"Arial\"\n",
    "var_names =  [f\"Mean f. {i}\" for i in range(70)] + [\n",
    "            f\"Noise f. {i}\" for i in range(5)\n",
    "        ]\n",
    "data = np.load(f\"{save_dir}data_{identifier}.npz\")\n",
    "x_test = data[\"x_test\"]\n",
    "test_output = pd.read_csv(f\"{save_dir}models/pnn_{identifier}/pnn_test_output.csv\").to_dict(\"list\")\n",
    "#shap.summary_plot(shapley_values, var_names, plot_type=\"bar\")\n",
    "\n",
    "top = len(shapley_values)\n",
    "top_uncertainty_ind = np.argsort(test_output[\"sigma_test\"])[-top:]\n",
    "top_uncertainty_instances = x_test[top_uncertainty_ind]\n",
    "\n",
    "add=10\n",
    "\n",
    "shap.summary_plot(shapley_values,top_uncertainty_instances, var_names, plot_type=\"dot\", max_display=10, show=False, plot_size=[9,5])\n",
    "fig, ax = plt.gcf(), plt.gca()\n",
    "\n",
    "# Get colorbar\n",
    "cb_ax = fig.axes[1] \n",
    "\n",
    "# Modifying color bar parameters\n",
    "cb_ax.tick_params(labelsize=17+add)\n",
    "cb_ax.set_ylabel(\"Feature value\", fontsize=19+add)\n",
    "\n",
    "label_ax = fig.axes[0]\n",
    "label_ax.tick_params(labelsize=18+add)\n",
    "ax.set_xlabel(\"SHAP Value\", fontsize=20+add)\n",
    "\n",
    "# Make x ticks beginning with \"noise\" bold\n",
    "for tick_label in ax.get_yticklabels():\n",
    "    if tick_label.get_text().startswith(\"Noise\"):\n",
    "        tick_label.set_fontweight(\"bold\")\n",
    "        \n",
    "plt.title(\"Mean output\", fontsize=20+add)\n",
    "#plt.savefig(f\"{figure_save_dir}/shap_randomU_mean.png\", dpi=800, bbox_inches='tight')\n",
    "#plt.savefig(f\"{figure_save_dir}/shap_randomU_mean.pdf\", format='pdf', bbox_inches='tight')\n"
   ]
  },
  {
   "cell_type": "code",
   "execution_count": null,
   "metadata": {},
   "outputs": [],
   "source": []
  }
 ],
 "metadata": {
  "kernelspec": {
   "display_name": "clue",
   "language": "python",
   "name": "python3"
  },
  "language_info": {
   "codemirror_mode": {
    "name": "ipython",
    "version": 3
   },
   "file_extension": ".py",
   "mimetype": "text/x-python",
   "name": "python",
   "nbconvert_exporter": "python",
   "pygments_lexer": "ipython3",
   "version": "3.11.5"
  },
  "orig_nbformat": 4
 },
 "nbformat": 4,
 "nbformat_minor": 2
}

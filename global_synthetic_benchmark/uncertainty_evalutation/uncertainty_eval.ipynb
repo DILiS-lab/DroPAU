{
 "cells": [
  {
   "cell_type": "code",
   "execution_count": 38,
   "metadata": {},
   "outputs": [],
   "source": [
    "\n",
    "\n",
    "import sys\n",
    "import os\n",
    "import pandas as pd\n",
    "sys.path.append(os.path.abspath(os.path.join(os.getcwd(), '../..')))\n",
    "\n",
    "from utils.eval_utils import create_error_reduce_data, create_calibration_data\n",
    "mixed = True\n",
    "if mixed:\n",
    "    f = \"../results/new_synthetic/models_mixed/pnn_n_40000_s_2.00_n_test_1500_n_exp_200/pnn_test_output.csv\"\n",
    "else:\n",
    "    f = \"../results/new_synthetic/models/pnn_n_40000_s_2.00_n_test_1500_n_exp_200/pnn_test_output.csv\"\n",
    "results = pd.read_csv(f) \n",
    "results = results.rename(columns={'mu_test':'y_preds', 'sigma_test': 'y_uncertainty', 'y_test': 'response'})\n"
   ]
  },
  {
   "cell_type": "code",
   "execution_count": 39,
   "metadata": {},
   "outputs": [],
   "source": [
    "save_dir = \"../../plotting/data/synthetic_qual\" if not mixed else \"../../plotting/data/synthetic_mixed_5_qual\"\n",
    "\n",
    "create_error_reduce_data(results, save_dir=save_dir, with_baseline=True, baseline=\"pred_value\", with_gt_noise_std=True)"
   ]
  },
  {
   "cell_type": "code",
   "execution_count": 40,
   "metadata": {},
   "outputs": [],
   "source": [
    "#create_calibration_data(results=results, save_dir=save_dir)\n"
   ]
  }
 ],
 "metadata": {
  "kernelspec": {
   "display_name": "clue",
   "language": "python",
   "name": "python3"
  },
  "language_info": {
   "codemirror_mode": {
    "name": "ipython",
    "version": 3
   },
   "file_extension": ".py",
   "mimetype": "text/x-python",
   "name": "python",
   "nbconvert_exporter": "python",
   "pygments_lexer": "ipython3",
   "version": "3.11.5"
  }
 },
 "nbformat": 4,
 "nbformat_minor": 2
}

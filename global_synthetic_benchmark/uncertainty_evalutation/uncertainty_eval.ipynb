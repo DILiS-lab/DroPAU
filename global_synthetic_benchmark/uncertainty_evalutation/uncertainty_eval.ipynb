{
 "cells": [
  {
   "cell_type": "code",
   "execution_count": 22,
   "metadata": {},
   "outputs": [],
   "source": [
    "\n",
    "\n",
    "import sys\n",
    "import os\n",
    "import pandas as pd\n",
    "sys.path.append(os.path.abspath(os.path.join(os.getcwd(), '../..')))\n",
    "\n",
    "from utils.eval_utils import create_error_reduce_data, create_calibration_data\n",
    "results = pd.read_csv(\"../results/new_synthetic/models_mixed/pnn_n_40000_s_2.00_n_test_1500_n_exp_200/pnn_test_output.csv\") \n",
    "results = results.rename(columns={'mu_test':'y_preds', 'sigma_test': 'y_uncertainty', 'y_test': 'response'})\n"
   ]
  },
  {
   "cell_type": "code",
   "execution_count": 23,
   "metadata": {},
   "outputs": [],
   "source": [
    "create_error_reduce_data(results, save_dir=\"../../plotting/data/synthetic_qual\", with_baseline=True, baseline=\"pred_value\", with_gt_noise_std=False)"
   ]
  }
 ],
 "metadata": {
  "kernelspec": {
   "display_name": "clue",
   "language": "python",
   "name": "python3"
  },
  "language_info": {
   "codemirror_mode": {
    "name": "ipython",
    "version": 3
   },
   "file_extension": ".py",
   "mimetype": "text/x-python",
   "name": "python",
   "nbconvert_exporter": "python",
   "pygments_lexer": "ipython3",
   "version": "3.11.5"
  }
 },
 "nbformat": 4,
 "nbformat_minor": 2
}

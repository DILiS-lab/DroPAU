{
 "cells": [
  {
   "cell_type": "code",
   "execution_count": 1,
   "metadata": {},
   "outputs": [],
   "source": [
    "import json\n",
    "datasets = [\"red_wine_1\", \"synthetic\", \"ailerons_1\"]\n",
    "#datasets = [\"lsat_1\", \"synthetic\"]"
   ]
  },
  {
   "cell_type": "code",
   "execution_count": 2,
   "metadata": {},
   "outputs": [
    {
     "name": "stdout",
     "output_type": "stream",
     "text": [
      "synthetic_mixed_5\n"
     ]
    },
    {
     "ename": "FileNotFoundError",
     "evalue": "[Errno 2] No such file or directory: 'results/synthetic_mixed_5_out_perturbation_global.json'",
     "output_type": "error",
     "traceback": [
      "\u001b[0;31m---------------------------------------------------------------------------\u001b[0m",
      "\u001b[0;31mFileNotFoundError\u001b[0m                         Traceback (most recent call last)",
      "Cell \u001b[0;32mIn[2], line 8\u001b[0m\n\u001b[1;32m      6\u001b[0m \u001b[38;5;28;01mfor\u001b[39;00m dataset \u001b[38;5;129;01min\u001b[39;00m datasets:\n\u001b[1;32m      7\u001b[0m     \u001b[38;5;28mprint\u001b[39m(dataset)\n\u001b[0;32m----> 8\u001b[0m     data \u001b[38;5;241m=\u001b[39m json\u001b[38;5;241m.\u001b[39mload(\u001b[38;5;28;43mopen\u001b[39;49m\u001b[43m(\u001b[49m\u001b[38;5;124;43mf\u001b[39;49m\u001b[38;5;124;43m'\u001b[39;49m\u001b[38;5;124;43mresults/\u001b[39;49m\u001b[38;5;132;43;01m{\u001b[39;49;00m\u001b[43mdataset\u001b[49m\u001b[38;5;132;43;01m}\u001b[39;49;00m\u001b[38;5;124;43m_out_perturbation_global.json\u001b[39;49m\u001b[38;5;124;43m'\u001b[39;49m\u001b[43m)\u001b[49m)[\u001b[38;5;124m\"\u001b[39m\u001b[38;5;124mperturb\u001b[39m\u001b[38;5;124m\"\u001b[39m]\n\u001b[1;32m     10\u001b[0m     \u001b[38;5;28;01mfor\u001b[39;00m method \u001b[38;5;129;01min\u001b[39;00m methods:\n\u001b[1;32m     11\u001b[0m         \u001b[38;5;28mprint\u001b[39m(data\u001b[38;5;241m.\u001b[39mkeys())\n",
      "File \u001b[0;32m~/miniconda3/envs/clue/lib/python3.11/site-packages/IPython/core/interactiveshell.py:286\u001b[0m, in \u001b[0;36m_modified_open\u001b[0;34m(file, *args, **kwargs)\u001b[0m\n\u001b[1;32m    279\u001b[0m \u001b[38;5;28;01mif\u001b[39;00m file \u001b[38;5;129;01min\u001b[39;00m {\u001b[38;5;241m0\u001b[39m, \u001b[38;5;241m1\u001b[39m, \u001b[38;5;241m2\u001b[39m}:\n\u001b[1;32m    280\u001b[0m     \u001b[38;5;28;01mraise\u001b[39;00m \u001b[38;5;167;01mValueError\u001b[39;00m(\n\u001b[1;32m    281\u001b[0m         \u001b[38;5;124mf\u001b[39m\u001b[38;5;124m\"\u001b[39m\u001b[38;5;124mIPython won\u001b[39m\u001b[38;5;124m'\u001b[39m\u001b[38;5;124mt let you open fd=\u001b[39m\u001b[38;5;132;01m{\u001b[39;00mfile\u001b[38;5;132;01m}\u001b[39;00m\u001b[38;5;124m by default \u001b[39m\u001b[38;5;124m\"\u001b[39m\n\u001b[1;32m    282\u001b[0m         \u001b[38;5;124m\"\u001b[39m\u001b[38;5;124mas it is likely to crash IPython. If you know what you are doing, \u001b[39m\u001b[38;5;124m\"\u001b[39m\n\u001b[1;32m    283\u001b[0m         \u001b[38;5;124m\"\u001b[39m\u001b[38;5;124myou can use builtins\u001b[39m\u001b[38;5;124m'\u001b[39m\u001b[38;5;124m open.\u001b[39m\u001b[38;5;124m\"\u001b[39m\n\u001b[1;32m    284\u001b[0m     )\n\u001b[0;32m--> 286\u001b[0m \u001b[38;5;28;01mreturn\u001b[39;00m \u001b[43mio_open\u001b[49m\u001b[43m(\u001b[49m\u001b[43mfile\u001b[49m\u001b[43m,\u001b[49m\u001b[43m \u001b[49m\u001b[38;5;241;43m*\u001b[39;49m\u001b[43margs\u001b[49m\u001b[43m,\u001b[49m\u001b[43m \u001b[49m\u001b[38;5;241;43m*\u001b[39;49m\u001b[38;5;241;43m*\u001b[39;49m\u001b[43mkwargs\u001b[49m\u001b[43m)\u001b[49m\n",
      "\u001b[0;31mFileNotFoundError\u001b[0m: [Errno 2] No such file or directory: 'results/synthetic_mixed_5_out_perturbation_global.json'"
     ]
    }
   ],
   "source": [
    "import numpy as np\n",
    "datasets = [\"synthetic_mixed_5\"]\n",
    "methods = [\"varx\"]\n",
    "metric = \"spearman\"\n",
    "epsilon = 1\n",
    "for dataset in datasets:\n",
    "    print(dataset)\n",
    "    data = json.load(open(f'results/{dataset}_out_perturbation_global.json'))[\"perturb\"]\n",
    "\n",
    "    for method in methods:\n",
    "        print(data.keys())\n",
    "        res = data[method][str(epsilon)] \n",
    "        \n",
    "        DCG_CHANGE = (res[f\"{metric}_perturbed\"]/res[f\"{metric}_before\"])\n",
    "        print(method)\n",
    "        print(res[\"spearman_before\"])\n",
    "        print(res[\"spearman_perturbed\"])\n",
    "        print(DCG_CHANGE)\n",
    "    print()\n"
   ]
  },
  {
   "cell_type": "code",
   "execution_count": 13,
   "metadata": {},
   "outputs": [
    {
     "name": "stdout",
     "output_type": "stream",
     "text": [
      "synthetic_mixed_5\n",
      "varx_ig: -0.159+-0.018\n",
      "varx_lrp: -0.160+-0.022\n",
      "varx: -0.158+-0.023\n",
      "infoshap: -0.082+-0.015\n",
      "clue: -0.015+-0.020\n",
      "\n",
      "red_wine_1\n",
      "varx_ig: -0.001+-0.017\n",
      "varx_lrp: -0.004+-0.020\n",
      "varx: 0.003+-0.018\n",
      "infoshap: -0.001+-0.054\n",
      "clue: -0.000+-0.016\n",
      "\n",
      "synthetic\n",
      "varx_ig: -0.167+-0.026\n",
      "varx_lrp: -0.154+-0.028\n",
      "varx: -0.158+-0.032\n",
      "infoshap: -0.082+-0.023\n",
      "clue: -0.009+-0.015\n",
      "\n",
      "ailerons_1\n",
      "varx_ig: -0.139+-0.064\n",
      "varx_lrp: -0.083+-0.042\n",
      "varx: -0.171+-0.026\n",
      "infoshap: -0.099+-0.036\n",
      "clue: -0.025+-0.009\n",
      "\n"
     ]
    }
   ],
   "source": [
    "import numpy as np\n",
    "import json\n",
    "\n",
    "methods = [\"varx_ig\", \"varx_lrp\", \"varx\", \"infoshap\", \"clue\"]\n",
    "datasets = [\"synthetic_mixed_5\",\"red_wine_1\", \"synthetic\", \"ailerons_1\"]\n",
    "\n",
    "metric = \"spearman\"\n",
    "epsilon = 1\n",
    "for dataset in datasets:\n",
    "    print(dataset)\n",
    "\n",
    "    for method in methods:\n",
    "        changes = []\n",
    "\n",
    "        for i in range(12):\n",
    "            data = json.load(open(f'results/global_perturbation/{dataset}_out_perturbation_global_{i}.json'))[\"perturb\"]\n",
    "            res = data[method][str(epsilon)] \n",
    "            \n",
    "            DCG_CHANGE = (res[f\"{metric}_perturbed\"]- res[f\"{metric}_before\"])\n",
    "            changes.append(DCG_CHANGE)\n",
    "        round_to = 3\n",
    "        print(f\"{method}: {round(np.mean(changes),round_to):.{round_to}f}+-{round(np.std(changes),round_to):.{round_to}f}\")\n",
    "    print()\n"
   ]
  },
  {
   "cell_type": "code",
   "execution_count": null,
   "metadata": {},
   "outputs": [],
   "source": [
    "import numpy as np\n",
    "import json\n",
    "\n",
    "methods = [\"varx_ig\", \"varx_lrp\", \"varx\", \"infoshap\", \"clue\"]\n",
    "datasets = [\"synthetic_mixed_5\",\"red_wine_1\", \"synthetic\", \"ailerons_1\"]\n",
    "\n",
    "metric = \"spearman\"\n",
    "epsilon = 1\n",
    "for dataset in datasets:\n",
    "    print(dataset)\n",
    "\n",
    "    for method in methods:\n",
    "        changes = []\n",
    "\n",
    "        for i in range(12):\n",
    "            data = json.load(open(f'results/global_perturbation/{dataset}_out_perturbation_global_{i}.json'))[\"perturb\"]\n",
    "            res = data[method][str(epsilon)] \n",
    "            \n",
    "            DCG_CHANGE = (res[f\"{metric}_perturbed\"]- res[f\"{metric}_before\"])\n",
    "            changes.append(DCG_CHANGE)\n",
    "        print(f\"{method}: {np.mean(changes):.3f}+-{np.std(changes):.60f}\")\n",
    "    print()\n"
   ]
  },
  {
   "cell_type": "code",
   "execution_count": null,
   "metadata": {},
   "outputs": [],
   "source": [
    "data[method]"
   ]
  }
 ],
 "metadata": {
  "kernelspec": {
   "display_name": "clue",
   "language": "python",
   "name": "python3"
  },
  "language_info": {
   "codemirror_mode": {
    "name": "ipython",
    "version": 3
   },
   "file_extension": ".py",
   "mimetype": "text/x-python",
   "name": "python",
   "nbconvert_exporter": "python",
   "pygments_lexer": "ipython3",
   "version": "3.11.5"
  }
 },
 "nbformat": 4,
 "nbformat_minor": 2
}

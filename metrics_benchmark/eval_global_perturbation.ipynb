{
 "cells": [
  {
   "cell_type": "code",
   "execution_count": null,
   "metadata": {},
   "outputs": [],
   "source": [
    "import json\n",
    "datasets = [\"red_wine_1\", \"synthetic\", \"ailerons_1\"]\n",
    "#datasets = [\"lsat_1\", \"synthetic\"]"
   ]
  },
  {
   "cell_type": "code",
   "execution_count": null,
   "metadata": {},
   "outputs": [],
   "source": [
    "import numpy as np\n",
    "datasets = [\"synthetic\"]\n",
    "methods = [\"infoshap\"]\n",
    "metric = \"spearman\"\n",
    "epsilon = 1\n",
    "for dataset in datasets:\n",
    "    print(dataset)\n",
    "    data = json.load(open(f'results/{dataset}_out_perturbation_global_new_wc_letrmoval.json'))[\"perturb\"]\n",
    "\n",
    "    for method in methods:\n",
    "        res = data[method][str(epsilon)] \n",
    "        \n",
    "        DCG_CHANGE = (res[f\"{metric}_perturbed\"]/res[f\"{metric}_before\"])\n",
    "        print(method)\n",
    "        print(res[\"spearman_before\"])\n",
    "        print(res[\"spearman_perturbed\"])\n",
    "        print(DCG_CHANGE)\n",
    "    print()\n"
   ]
  },
  {
   "cell_type": "code",
   "execution_count": null,
   "metadata": {},
   "outputs": [],
   "source": [
    "import numpy as np\n",
    "methods = [\"varx_ig\", \"varx_lrp\", \"varx\", \"infoshap\", \"clue\"]\n",
    "datasets = [\"red_wine_1\", \"synthetic\", \"ailerons_1\"]\n",
    "\n",
    "metric = \"spearman\"\n",
    "epsilon = 1\n",
    "for dataset in datasets:\n",
    "    print(dataset)\n",
    "    data = json.load(open(f'results/save/{dataset}_out_perturbation_global_new_wc.json'))[\"perturb\"]\n",
    "\n",
    "    for method in methods:\n",
    "        res = data[method][str(epsilon)] \n",
    "        \n",
    "        DCG_CHANGE = (res[f\"{metric}_perturbed\"]- res[f\"{metric}_before\"])\n",
    "        print(method)\n",
    "        #print(res[\"spearman_before\"])\n",
    "        #print(res[\"spearman_perturbed\"])\n",
    "        print(DCG_CHANGE)\n",
    "    print()\n"
   ]
  },
  {
   "cell_type": "code",
   "execution_count": null,
   "metadata": {},
   "outputs": [],
   "source": [
    "data[method]"
   ]
  },
  {
   "cell_type": "code",
   "execution_count": null,
   "metadata": {},
   "outputs": [],
   "source": [
    "data[method]"
   ]
  }
 ],
 "metadata": {
  "kernelspec": {
   "display_name": "clue",
   "language": "python",
   "name": "python3"
  },
  "language_info": {
   "codemirror_mode": {
    "name": "ipython",
    "version": 3
   },
   "file_extension": ".py",
   "mimetype": "text/x-python",
   "name": "python",
   "nbconvert_exporter": "python",
   "pygments_lexer": "ipython3",
   "version": "3.11.5"
  }
 },
 "nbformat": 4,
 "nbformat_minor": 2
}

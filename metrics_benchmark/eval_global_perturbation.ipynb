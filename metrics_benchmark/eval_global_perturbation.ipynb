{
 "cells": [
  {
   "cell_type": "code",
   "execution_count": 2,
   "metadata": {},
   "outputs": [],
   "source": [
    "import json\n",
    "datasets = [\"red_wine_1\", \"synthetic\", \"ailerons_1\"]\n",
    "#datasets = [\"lsat_1\", \"synthetic\"]"
   ]
  },
  {
   "cell_type": "code",
   "execution_count": 10,
   "metadata": {},
   "outputs": [
    {
     "name": "stdout",
     "output_type": "stream",
     "text": [
      "synthetic_mixed_5\n",
      "dict_keys(['varx_ig', 'varx_lrp', 'varx', 'clue', 'infoshap'])\n",
      "varx\n",
      "0.4048769123897389\n",
      "0.23238638239394777\n",
      "0.5739679771373334\n",
      "\n"
     ]
    }
   ],
   "source": [
    "import numpy as np\n",
    "datasets = [\"synthetic_mixed_5\"]\n",
    "methods = [\"varx\"]\n",
    "metric = \"spearman\"\n",
    "epsilon = 1\n",
    "for dataset in datasets:\n",
    "    print(dataset)\n",
    "    data = json.load(open(f'results/{dataset}_out_perturbation_global.json'))[\"perturb\"]\n",
    "\n",
    "    for method in methods:\n",
    "        print(data.keys())\n",
    "        res = data[method][str(epsilon)] \n",
    "        \n",
    "        DCG_CHANGE = (res[f\"{metric}_perturbed\"]/res[f\"{metric}_before\"])\n",
    "        print(method)\n",
    "        print(res[\"spearman_before\"])\n",
    "        print(res[\"spearman_perturbed\"])\n",
    "        print(DCG_CHANGE)\n",
    "    print()\n"
   ]
  },
  {
   "cell_type": "code",
   "execution_count": 13,
   "metadata": {},
   "outputs": [
    {
     "name": "stdout",
     "output_type": "stream",
     "text": [
      "synthetic_mixed_5\n",
      "varx_ig\n",
      "-0.16490864929273302\n",
      "varx_lrp\n",
      "-0.1509441026418234\n",
      "varx\n",
      "-0.17249052999579112\n",
      "infoshap\n",
      "-0.0007439736854047974\n",
      "clue\n",
      "-0.002529594013152947\n",
      "\n"
     ]
    }
   ],
   "source": [
    "import numpy as np\n",
    "methods = [\"varx_ig\", \"varx_lrp\", \"varx\", \"infoshap\", \"clue\"]\n",
    "datasets = [\"synthetic_mixed_5\"] #[\"red_wine_1\", \"synthetic\", \"ailerons_1\"]\n",
    "\n",
    "metric = \"spearman\"\n",
    "epsilon = 1\n",
    "for dataset in datasets:\n",
    "    print(dataset)\n",
    "    data = json.load(open(f'results/{dataset}_out_perturbation_global.json'))[\"perturb\"]\n",
    "\n",
    "    for method in methods:\n",
    "        res = data[method][str(epsilon)] \n",
    "        \n",
    "        DCG_CHANGE = (res[f\"{metric}_perturbed\"]- res[f\"{metric}_before\"])\n",
    "        print(method)\n",
    "        #print(res[\"spearman_before\"])\n",
    "        #print(res[\"spearman_perturbed\"])\n",
    "        print(DCG_CHANGE)\n",
    "    print()\n"
   ]
  },
  {
   "cell_type": "code",
   "execution_count": null,
   "metadata": {},
   "outputs": [],
   "source": [
    "data[method]"
   ]
  },
  {
   "cell_type": "code",
   "execution_count": null,
   "metadata": {},
   "outputs": [],
   "source": [
    "data[method]"
   ]
  }
 ],
 "metadata": {
  "kernelspec": {
   "display_name": "clue",
   "language": "python",
   "name": "python3"
  },
  "language_info": {
   "codemirror_mode": {
    "name": "ipython",
    "version": 3
   },
   "file_extension": ".py",
   "mimetype": "text/x-python",
   "name": "python",
   "nbconvert_exporter": "python",
   "pygments_lexer": "ipython3",
   "version": "3.11.5"
  }
 },
 "nbformat": 4,
 "nbformat_minor": 2
}

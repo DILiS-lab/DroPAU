{
 "cells": [
  {
   "cell_type": "code",
   "execution_count": 1,
   "metadata": {},
   "outputs": [],
   "source": [
    "import json\n",
    "datasets = [\"red_wine_1\", \"synthetic\", \"ailerons_1\"]\n",
    "#datasets = [\"lsat_1\", \"synthetic\"]"
   ]
  },
  {
   "cell_type": "code",
   "execution_count": 10,
   "metadata": {},
   "outputs": [
    {
     "name": "stdout",
     "output_type": "stream",
     "text": [
      "synthetic_mixed_5\n",
      "dict_keys(['varx_ig', 'varx_lrp', 'varx', 'clue', 'infoshap'])\n",
      "varx\n",
      "0.4048769123897389\n",
      "0.23238638239394777\n",
      "0.5739679771373334\n",
      "\n"
     ]
    }
   ],
   "source": [
    "import numpy as np\n",
    "datasets = [\"synthetic_mixed_5\"]\n",
    "methods = [\"varx\"]\n",
    "metric = \"spearman\"\n",
    "epsilon = 1\n",
    "for dataset in datasets:\n",
    "    print(dataset)\n",
    "    data = json.load(open(f'results/{dataset}_out_perturbation_global.json'))[\"perturb\"]\n",
    "\n",
    "    for method in methods:\n",
    "        print(data.keys())\n",
    "        res = data[method][str(epsilon)] \n",
    "        \n",
    "        DCG_CHANGE = (res[f\"{metric}_perturbed\"]/res[f\"{metric}_before\"])\n",
    "        print(method)\n",
    "        print(res[\"spearman_before\"])\n",
    "        print(res[\"spearman_perturbed\"])\n",
    "        print(DCG_CHANGE)\n",
    "    print()\n"
   ]
  },
  {
   "cell_type": "code",
   "execution_count": 1,
   "metadata": {},
   "outputs": [
    {
     "name": "stdout",
     "output_type": "stream",
     "text": [
      "synthetic_mixed_5\n",
      "varx_ig: -0.184+-0.006\n",
      "varx_lrp: -0.157+-0.008\n",
      "varx: -0.196+-0.010\n",
      "infoshap: -0.099+-0.000\n",
      "clue: -0.005+-0.000\n",
      "\n",
      "red_wine_1\n",
      "varx_ig: -0.005+-0.012\n",
      "varx_lrp: -0.001+-0.021\n",
      "varx: -0.005+-0.022\n",
      "infoshap: -0.056+-0.083\n",
      "clue: -0.002+-0.016\n",
      "\n",
      "synthetic\n",
      "varx_ig: -0.202+-0.001\n",
      "varx_lrp: -0.164+-0.007\n",
      "varx: -0.151+-0.002\n",
      "infoshap: -0.071+-0.000\n",
      "clue: -0.004+-0.004\n",
      "\n",
      "ailerons_1\n",
      "varx_ig: -0.128+-0.054\n",
      "varx_lrp: -0.065+-0.042\n",
      "varx: -0.160+-0.010\n",
      "infoshap: -0.096+-0.059\n",
      "clue: -0.021+-0.004\n",
      "\n"
     ]
    }
   ],
   "source": [
    "import numpy as np\n",
    "import json\n",
    "\n",
    "methods = [\"varx_ig\", \"varx_lrp\", \"varx\", \"infoshap\", \"clue\"]\n",
    "datasets = [\"synthetic_mixed_5\",\"red_wine_1\", \"synthetic\", \"ailerons_1\"]\n",
    "\n",
    "metric = \"spearman\"\n",
    "epsilon = 1\n",
    "for dataset in datasets:\n",
    "    print(dataset)\n",
    "\n",
    "    for method in methods:\n",
    "        changes = []\n",
    "\n",
    "        for i in range(12):\n",
    "            data = json.load(open(f'results/global_perturbation/{dataset}_out_perturbation_global_{i}.json'))[\"perturb\"]\n",
    "            res = data[method][str(epsilon)] \n",
    "            \n",
    "            DCG_CHANGE = (res[f\"{metric}_perturbed\"]- res[f\"{metric}_before\"])\n",
    "            changes.append(DCG_CHANGE)\n",
    "        print(f\"{method}: {np.mean(changes):.3f}+-{np.std(changes):.3f}\")\n",
    "    print()\n"
   ]
  },
  {
   "cell_type": "code",
   "execution_count": null,
   "metadata": {},
   "outputs": [],
   "source": [
    "data[method]"
   ]
  },
  {
   "cell_type": "code",
   "execution_count": null,
   "metadata": {},
   "outputs": [],
   "source": [
    "data[method]"
   ]
  }
 ],
 "metadata": {
  "kernelspec": {
   "display_name": "clue",
   "language": "python",
   "name": "python3"
  },
  "language_info": {
   "codemirror_mode": {
    "name": "ipython",
    "version": 3
   },
   "file_extension": ".py",
   "mimetype": "text/x-python",
   "name": "python",
   "nbconvert_exporter": "python",
   "pygments_lexer": "ipython3",
   "version": "3.11.5"
  }
 },
 "nbformat": 4,
 "nbformat_minor": 2
}

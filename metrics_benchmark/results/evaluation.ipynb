{
 "cells": [
  {
   "cell_type": "code",
   "execution_count": null,
   "metadata": {},
   "outputs": [],
   "source": [
    "import numpy as np\n",
    "import json\n",
    "import matplotlib.pyplot as plt\n",
    "import pandas as pd\n",
    "from pathlib import Path"
   ]
  },
  {
   "cell_type": "markdown",
   "metadata": {},
   "source": [
    "# Localization"
   ]
  },
  {
   "cell_type": "code",
   "execution_count": null,
   "metadata": {},
   "outputs": [],
   "source": [
    "def aggregate_localization(out_local, top_k=-0, highest=True, mean_func=np.nanmean):\n",
    "    return {\n",
    "        noise_level: {\n",
    "            noise_features: {\n",
    "                method: np.round(mean_func(instance_localizations[-(top_k):] if highest else instance_localizations[:top_k]), 2)\n",
    "                for method, instance_localizations in noise_features_dict.items()\n",
    "            }\n",
    "            for noise_features, noise_features_dict in data.items()\n",
    "        }\n",
    "        for noise_level, data in out_local.items()\n",
    "    }    \n"
   ]
  },
  {
   "cell_type": "markdown",
   "metadata": {},
   "source": [
    "## Synthetic"
   ]
  },
  {
   "cell_type": "markdown",
   "metadata": {},
   "source": [
    "### Simple"
   ]
  },
  {
   "cell_type": "code",
   "execution_count": null,
   "metadata": {},
   "outputs": [],
   "source": [
    "with open('fixed_synthetic_out_localization_simple_1.json', 'r') as f:\n",
    "  syn_simple_out_localization_1 = json.load(f)\n",
    "with open('fixed_synthetic_out_localization_simple_2.json', 'r') as f:\n",
    "  syn_simple_out_localization_2 = json.load(f)\n",
    "with open('fixed_synthetic_out_localization_simple_3.json', 'r') as f:\n",
    "  syn_simple_out_localization_3 = json.load(f)\n"
   ]
  },
  {
   "cell_type": "code",
   "execution_count": null,
   "metadata": {},
   "outputs": [],
   "source": [
    "s_rank_aggr_1 = aggregate_localization(syn_simple_out_localization_1[\"local_localization_precision\"], top_k=-0, highest=True)\n",
    "print(\"Rank\", s_rank_aggr_1[\"2\"][\"5\"])\n",
    "\n",
    "s_mass_aggr_1 = aggregate_localization(syn_simple_out_localization_1[\"local_localization_mass_accuracy\"], top_k=-0, highest=True)\n",
    "print(\"Mass\", s_mass_aggr_1[\"2\"][\"5\"])"
   ]
  },
  {
   "cell_type": "code",
   "execution_count": null,
   "metadata": {},
   "outputs": [],
   "source": [
    "s_rank_aggr_2 = aggregate_localization(syn_simple_out_localization_2[\"local_localization_precision\"], top_k=-0, highest=True)\n",
    "print(\"Rank\", s_rank_aggr_2[\"2\"][\"5\"])\n",
    "\n",
    "s_mass_aggr_2 = aggregate_localization(syn_simple_out_localization_2[\"local_localization_mass_accuracy\"], top_k=-0, highest=True)\n",
    "print(\"Mass\", s_mass_aggr_2[\"2\"][\"5\"])"
   ]
  },
  {
   "cell_type": "code",
   "execution_count": null,
   "metadata": {},
   "outputs": [],
   "source": [
    "s_rank_aggr_3 = aggregate_localization(syn_simple_out_localization_3[\"local_localization_precision\"], top_k=-0, highest=True)\n",
    "print(\"Rank\", s_rank_aggr_3[\"2\"][\"5\"])\n",
    "\n",
    "s_mass_aggr_3 = aggregate_localization(syn_simple_out_localization_3[\"local_localization_mass_accuracy\"], top_k=-0, highest=True)\n",
    "print(\"Mass\", s_mass_aggr_3[\"2\"][\"5\"])"
   ]
  },
  {
   "cell_type": "markdown",
   "metadata": {},
   "source": [
    "### Complex"
   ]
  },
  {
   "cell_type": "code",
   "execution_count": null,
   "metadata": {},
   "outputs": [],
   "source": [
    "with open('fixed_synthetic_out_localization_1.json', 'r') as f:\n",
    "  syn_out_localization_1 = json.load(f)\n",
    "with open('fixed_synthetic_out_localization_2.json', 'r') as f:\n",
    "  syn_out_localization_2 = json.load(f)\n",
    "with open('fixed_synthetic_out_localization_3.json', 'r') as f:\n",
    "  syn_out_localization_3 = json.load(f)"
   ]
  },
  {
   "cell_type": "code",
   "execution_count": null,
   "metadata": {},
   "outputs": [],
   "source": [
    "c_rank_aggr_1 = aggregate_localization(syn_out_localization_1[\"local_localization_precision\"], top_k=-0, highest=True)\n",
    "print(\"Rank\", c_rank_aggr_1[\"2\"][\"5\"])\n",
    "\n",
    "c_mass_aggr_1 = aggregate_localization(syn_out_localization_1[\"local_localization_mass_accuracy\"], top_k=-0, highest=True)\n",
    "print(\"Mass\", c_mass_aggr_1[\"2\"][\"5\"])"
   ]
  },
  {
   "cell_type": "code",
   "execution_count": null,
   "metadata": {},
   "outputs": [],
   "source": [
    "c_rank_aggr_2 = aggregate_localization(syn_out_localization_2[\"local_localization_precision\"], top_k=-0, highest=True)\n",
    "print(\"Rank\", c_rank_aggr_2[\"2\"][\"5\"])\n",
    "\n",
    "c_mass_aggr_2 = aggregate_localization(syn_out_localization_2[\"local_localization_mass_accuracy\"], top_k=-0, highest=True)\n",
    "print(\"Mass\", c_mass_aggr_2[\"2\"][\"5\"])"
   ]
  },
  {
   "cell_type": "code",
   "execution_count": null,
   "metadata": {},
   "outputs": [],
   "source": [
    "c_rank_aggr_3 = aggregate_localization(syn_out_localization_3[\"local_localization_precision\"], top_k=-0, highest=True)\n",
    "print(\"Rank\", c_rank_aggr_3[\"2\"][\"5\"])\n",
    "\n",
    "c_mass_aggr_3 = aggregate_localization(syn_out_localization_3[\"local_localization_mass_accuracy\"], top_k=-0, highest=True)\n",
    "print(\"Mass\", c_mass_aggr_3[\"2\"][\"5\"])"
   ]
  },
  {
   "cell_type": "markdown",
   "metadata": {},
   "source": [
    "## Red Wine"
   ]
  },
  {
   "cell_type": "code",
   "execution_count": null,
   "metadata": {},
   "outputs": [],
   "source": [
    "with open('fixed_red_wine_localization_simple.json', 'r') as f:\n",
    "    rw_simple_out_localization_1 = json.load(f)\n",
    "with open('fixed_red_wine_50_out_localization.json', 'r') as f:\n",
    "    rw_out_localization_50 = json.load(f)"
   ]
  },
  {
   "cell_type": "code",
   "execution_count": null,
   "metadata": {},
   "outputs": [],
   "source": [
    "rw_rank_aggr_simple = aggregate_localization(rw_simple_out_localization_1[\"local_localization_precision\"], top_k=-0, highest=True)\n",
    "print(\"Rank\", rw_rank_aggr_simple[\"2\"][\"5\"])\n",
    "\n",
    "rw_mass_aggr_simple = aggregate_localization(rw_simple_out_localization_1[\"local_localization_mass_accuracy\"], top_k=-0, highest=True)\n",
    "print(\"Mass\", rw_mass_aggr_simple[\"2\"][\"5\"])"
   ]
  },
  {
   "cell_type": "code",
   "execution_count": null,
   "metadata": {},
   "outputs": [],
   "source": [
    "rw_rank_aggr_50 = aggregate_localization(rw_out_localization_50[\"local_localization_precision\"], top_k=-0, highest=True)\n",
    "print(\"Rank\", rw_rank_aggr_50[\"2\"][\"5\"])\n",
    "\n",
    "rw_mass_aggr_50 = aggregate_localization(rw_out_localization_50[\"local_localization_mass_accuracy\"], top_k=-0, highest=True)\n",
    "print(\"Mass\", rw_mass_aggr_50[\"2\"][\"5\"])"
   ]
  },
  {
   "cell_type": "markdown",
   "metadata": {},
   "source": [
    "## Ailerons"
   ]
  },
  {
   "cell_type": "code",
   "execution_count": null,
   "metadata": {},
   "outputs": [],
   "source": [
    "with open('fixed_ailerons_localization_simple.json', 'r') as f:\n",
    "    a_simple_out_localization_1 = json.load(f)\n",
    "with open('fixed_ailerons_50_out_localization.json', 'r') as f:\n",
    "    a_out_localization_50 = json.load(f)"
   ]
  },
  {
   "cell_type": "code",
   "execution_count": null,
   "metadata": {},
   "outputs": [],
   "source": [
    "a_rank_aggr_simple = aggregate_localization(a_simple_out_localization_1[\"local_localization_precision\"], top_k=-0, highest=True)\n",
    "print(\"Rank\", a_rank_aggr_simple[\"2\"][\"5\"])\n",
    "\n",
    "a_mass_aggr_simple = aggregate_localization(a_simple_out_localization_1[\"local_localization_mass_accuracy\"], top_k=-0, highest=True)\n",
    "print(\"Mass\", a_mass_aggr_simple[\"2\"][\"5\"])"
   ]
  },
  {
   "cell_type": "code",
   "execution_count": null,
   "metadata": {},
   "outputs": [],
   "source": [
    "a_rank_aggr_50 = aggregate_localization(a_out_localization_50[\"local_localization_precision\"], top_k=-0, highest=True)\n",
    "print(\"Rank\", a_rank_aggr_50[\"2\"][\"5\"])\n",
    "\n",
    "a_mass_aggr_50 = aggregate_localization(a_out_localization_50[\"local_localization_mass_accuracy\"], top_k=-0, highest=True)\n",
    "print(\"Mass\", a_mass_aggr_50[\"2\"][\"5\"])"
   ]
  },
  {
   "cell_type": "markdown",
   "metadata": {},
   "source": [
    "## LSAT"
   ]
  },
  {
   "cell_type": "code",
   "execution_count": null,
   "metadata": {},
   "outputs": [],
   "source": [
    "with open('fixed_lsat_localization_simple.json', 'r') as f:\n",
    "    lsat_simple_out_localization_1 = json.load(f)\n",
    "with open('fixed_lsat_50_out_localization.json', 'r') as f:\n",
    "    lsat_out_localization_50 = json.load(f)"
   ]
  },
  {
   "cell_type": "code",
   "execution_count": null,
   "metadata": {},
   "outputs": [],
   "source": [
    "lsat_rank_aggr_simple = aggregate_localization(lsat_simple_out_localization_1[\"local_localization_precision\"], top_k=-0, highest=True)\n",
    "print(\"Rank\", lsat_rank_aggr_simple[\"2\"][\"5\"])\n",
    "\n",
    "lsat_mass_aggr_simple = aggregate_localization(lsat_simple_out_localization_1[\"local_localization_mass_accuracy\"], top_k=-0, highest=True)\n",
    "print(\"Mass\", lsat_mass_aggr_simple[\"2\"][\"5\"])"
   ]
  },
  {
   "cell_type": "code",
   "execution_count": null,
   "metadata": {},
   "outputs": [],
   "source": [
    "lsat_rank_aggr_50 = aggregate_localization(lsat_out_localization_50[\"local_localization_precision\"], top_k=-0, highest=True)\n",
    "print(\"Rank\", lsat_rank_aggr_50[\"2\"][\"5\"])\n",
    "\n",
    "lsat_mass_aggr_50 = aggregate_localization(lsat_out_localization_50[\"local_localization_mass_accuracy\"], top_k=-0, highest=True)\n",
    "print(\"Mass\", lsat_mass_aggr_50[\"2\"][\"5\"])"
   ]
  },
  {
   "cell_type": "markdown",
   "metadata": {},
   "source": [
    "# Robustness"
   ]
  },
  {
   "cell_type": "code",
   "execution_count": null,
   "metadata": {},
   "outputs": [],
   "source": [
    "# Load json with all resulst and just extract the Lipschitz metric for each method\n",
    "for file_path in Path(\".\").glob(\"*lipschitz*.json\"):\n",
    "    with open(file_path, 'r') as f:\n",
    "        lipschitz = json.load(f)\n",
    "    pd.DataFrame({\n",
    "        method: data[\"L_out\"]\n",
    "        for method, data in lipschitz.items()\n",
    "    }).to_csv(f\"../../plotting/data/lipschitz/{file_path.stem}.csv\", index=False)"
   ]
  }
 ],
 "metadata": {
  "kernelspec": {
   "display_name": "uxai",
   "language": "python",
   "name": "python3"
  },
  "language_info": {
   "codemirror_mode": {
    "name": "ipython",
    "version": 3
   },
   "file_extension": ".py",
   "mimetype": "text/x-python",
   "name": "python",
   "nbconvert_exporter": "python",
   "pygments_lexer": "ipython3",
   "version": "3.11.5"
  }
 },
 "nbformat": 4,
 "nbformat_minor": 2
}
